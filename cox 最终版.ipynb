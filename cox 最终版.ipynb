{
 "cells": [
  {
   "cell_type": "code",
   "execution_count": 2,
   "id": "4d5dec7d",
   "metadata": {},
   "outputs": [],
   "source": [
    "import os\n",
    "import pandas as pd\n",
    "import numpy as np\n",
    "#import matplotlib.pyplot as plt\n",
    "from imblearn.under_sampling import RandomUnderSampler\n",
    "from collections import Counter\n",
    "from sklearn.ensemble import RandomForestClassifier\n",
    "from sklearn.metrics import accuracy_score\n",
    "from sklearn.metrics import roc_curve, auc\n",
    "from sklearn.metrics import roc_auc_score\n",
    "from sklearn import metrics\n",
    "from sklearn.metrics import precision_score\n",
    "from sklearn.metrics import confusion_matrix\n",
    "from sklearn.metrics import recall_score\n",
    "from sklearn.metrics import f1_score\n",
    "from sklearn.feature_selection import SelectFromModel\n",
    "from sklearn.model_selection import train_test_split\n",
    "from sklearn.model_selection import cross_val_score\n",
    "from sklearn.preprocessing import StandardScaler\n",
    "from sklearn.model_selection import GridSearchCV\n",
    "from sklearn.preprocessing import MinMaxScaler\n",
    "from sklearn.model_selection import train_test_split\n",
    "from sklearn.linear_model import LogisticRegression \n",
    "from sklearn.metrics import confusion_matrix\n",
    "from sklearn.metrics import precision_score, roc_curve, recall_score, f1_score, roc_auc_score, accuracy_score\n",
    "from sklearn.svm import SVC\n",
    "from numpy import *\n",
    "import statsmodels.api as sm\n",
    "os.getcwd()\n",
    "os.chdir(r'C:\\Users\\thecat\\Desktop\\元码时用的一些程序\\数据\\分析数据')"
   ]
  },
  {
   "cell_type": "code",
   "execution_count": 3,
   "id": "735f3dba",
   "metadata": {},
   "outputs": [
    {
     "name": "stdout",
     "output_type": "stream",
     "text": [
      "              hsa-let-7a-1  hsa-let-7a-2  hsa-let-7a-3   hsa-let-7b  \\\n",
      "ID                                                                    \n",
      "TCGA-A7-A4SE   6015.451673   5946.436756   6158.709909  14372.18211   \n",
      "TCGA-4H-AAAK  14576.349860  14567.992760  14659.398540  22130.47209   \n",
      "TCGA-HN-A2NL  19718.888560  19635.641270  19742.469340  30824.00523   \n",
      "TCGA-AR-A1AY  10576.064280  10481.802530  10716.154950  26050.09413   \n",
      "TCGA-A2-A3XW  16416.936080  16334.500070  16431.861820  28592.43614   \n",
      "\n",
      "               hsa-let-7c   hsa-let-7d   hsa-let-7e  hsa-let-7f-1  \\\n",
      "ID                                                                  \n",
      "TCGA-A7-A4SE  2234.270786   592.552315   730.582148   1977.033369   \n",
      "TCGA-4H-AAAK  3240.987956   355.002656  1670.201314   4116.045998   \n",
      "TCGA-HN-A2NL  1575.267338  1329.098321   796.387139  10425.561560   \n",
      "TCGA-AR-A1AY  4712.566758   731.700331  1059.272935   3396.547728   \n",
      "TCGA-A2-A3XW  8117.076585   328.595904   920.573709   4035.920056   \n",
      "\n",
      "              hsa-let-7f-2  hsa-let-7g  ...  PAUPAR.1  RP11-65B7.2  \\\n",
      "ID                                      ...                          \n",
      "TCGA-A7-A4SE   2033.848680  309.172884  ...  0.000000     0.046596   \n",
      "TCGA-4H-AAAK   4187.603669  332.194736  ...  0.000000     0.034314   \n",
      "TCGA-HN-A2NL  10583.481310  763.159681  ...  0.021761     0.027004   \n",
      "TCGA-AR-A1AY   3428.315501  789.507261  ...  0.000000     0.039513   \n",
      "TCGA-A2-A3XW   4038.675577  401.617215  ...  0.000000     0.000000   \n",
      "\n",
      "              GIMAP1-GIMAP5  RP11-274B21.13  AF127936.7.1  CH17-132F21.5.1  \\\n",
      "ID                                                                           \n",
      "TCGA-A7-A4SE            0.0        3.466781      0.030628         0.000000   \n",
      "TCGA-4H-AAAK            0.0        2.552999      0.084582         0.010442   \n",
      "TCGA-HN-A2NL            0.0        2.123913      0.022187         0.000000   \n",
      "TCGA-AR-A1AY            0.0        4.094701      0.058438         0.000000   \n",
      "TCGA-A2-A3XW            0.0        0.373713      0.028890         0.000000   \n",
      "\n",
      "              RP11-439M15.1  SNORA76A.1  LINC01144.1  RP11-418H16.1.1  \n",
      "ID                                                                     \n",
      "TCGA-A7-A4SE        0.00000         0.0     0.667348         0.074821  \n",
      "TCGA-4H-AAAK        0.05401         0.0     0.898989         0.082649  \n",
      "TCGA-HN-A2NL        0.00000         0.0     1.924312         0.151763  \n",
      "TCGA-AR-A1AY        0.00000         0.0     0.766039         0.023793  \n",
      "TCGA-A2-A3XW        0.00000         0.0     1.351050         1.109012  \n",
      "\n",
      "[5 rows x 126281 columns]\n"
     ]
    },
    {
     "data": {
      "text/plain": [
       "0    432\n",
       "1     51\n",
       "Name: label, dtype: int64"
      ]
     },
     "execution_count": 3,
     "metadata": {},
     "output_type": "execute_result"
    }
   ],
   "source": [
    "data1 = pd.read_csv(r'data_old.csv',header=0,index_col = 0)\n",
    "x = data1.iloc[:,1:]\n",
    "y = data1.iloc[:,0]\n",
    "print(x.head())\n",
    "y.value_counts() "
   ]
  },
  {
   "cell_type": "code",
   "execution_count": 4,
   "id": "53afdfa3",
   "metadata": {},
   "outputs": [
    {
     "data": {
      "text/plain": [
       "(338, 126281)"
      ]
     },
     "execution_count": 4,
     "metadata": {},
     "output_type": "execute_result"
    }
   ],
   "source": [
    "xtrain,  xtest, ytrain, ytest = train_test_split(x, y, test_size=0.3, stratify=y,random_state=18)\n",
    "xtrain.shape"
   ]
  },
  {
   "cell_type": "code",
   "execution_count": 5,
   "id": "f7bbff4b",
   "metadata": {
    "scrolled": true
   },
   "outputs": [
    {
     "name": "stdout",
     "output_type": "stream",
     "text": [
      "                            OLS Regression Results                            \n",
      "==============================================================================\n",
      "Dep. Variable:                  label   R-squared:                       0.404\n",
      "Model:                            OLS   Adj. R-squared:                  0.264\n",
      "Method:                 Least Squares   F-statistic:                     2.893\n",
      "Date:                Fri, 21 Jan 2022   Prob (F-statistic):           1.06e-09\n",
      "Time:                        18:01:54   Log-Likelihood:                 5.4075\n",
      "No. Observations:                 338   AIC:                             119.2\n",
      "Df Residuals:                     273   BIC:                             367.7\n",
      "Df Model:                          64                                         \n",
      "Covariance Type:            nonrobust                                         \n",
      "==================================================================================\n",
      "                     coef    std err          t      P>|t|      [0.025      0.975]\n",
      "----------------------------------------------------------------------------------\n",
      "const              0.2028      0.098      2.068      0.040       0.010       0.396\n",
      "hsa-let-7c     -1.297e-05   1.33e-05     -0.978      0.329   -3.91e-05    1.31e-05\n",
      "hsa-let-7i     -3.549e-05      0.000     -0.262      0.793      -0.000       0.000\n",
      "hsa-mir-103b-1     0.8328      0.830      1.003      0.317      -0.801       2.467\n",
      "hsa-mir-107        0.0006      0.001      1.247      0.213      -0.000       0.002\n",
      "hsa-mir-1180      -0.0010      0.001     -0.743      0.458      -0.004       0.002\n",
      "hsa-mir-1181       0.0756      0.055      1.364      0.174      -0.034       0.185\n",
      "hsa-mir-1184-3     2.9829      1.298      2.298      0.022       0.428       5.538\n",
      "hsa-mir-1193      -0.4400      0.273     -1.611      0.108      -0.978       0.098\n",
      "hsa-mir-1204       0.4546      0.417      1.089      0.277      -0.367       1.276\n",
      "hsa-mir-1231       0.1447      0.149      0.972      0.332      -0.148       0.438\n",
      "hsa-mir-1238      -0.0129      0.158     -0.082      0.935      -0.324       0.298\n",
      "hsa-mir-1243       0.0784      0.108      0.723      0.470      -0.135       0.292\n",
      "hsa-mir-1245b      0.1882      0.129      1.456      0.147      -0.066       0.443\n",
      "hsa-mir-1246       0.1345      0.136      0.986      0.325      -0.134       0.403\n",
      "hsa-mir-1247       0.0002      0.000      1.522      0.129   -7.13e-05       0.001\n",
      "hsa-mir-1249       0.0105      0.011      0.967      0.334      -0.011       0.032\n",
      "hsa-mir-1260b     -0.1209      0.088     -1.368      0.173      -0.295       0.053\n",
      "hsa-mir-1273h     -0.2101      0.135     -1.558      0.120      -0.476       0.055\n",
      "hsa-mir-1276       0.0312      0.049      0.639      0.523      -0.065       0.127\n",
      "hsa-mir-1277      -0.0284      0.014     -1.995      0.047      -0.056      -0.000\n",
      "hsa-mir-1278       0.1215      0.116      1.049      0.295      -0.107       0.350\n",
      "hsa-mir-1281       0.8605      0.398      2.162      0.032       0.077       1.644\n",
      "hsa-mir-1283-1    -0.0021      0.068     -0.031      0.975      -0.136       0.132\n",
      "hsa-mir-1283-2     0.0045      0.047      0.096      0.923      -0.088       0.097\n",
      "hsa-mir-1293       0.0453      0.014      3.331      0.001       0.019       0.072\n",
      "hsa-mir-1295b      0.0467      0.013      3.472      0.001       0.020       0.073\n",
      "hsa-mir-1306      -0.0007      0.003     -0.289      0.773      -0.006       0.004\n",
      "hsa-mir-130a      -0.0006      0.000     -1.494      0.136      -0.001       0.000\n",
      "hsa-mir-130b       0.0024      0.001      2.563      0.011       0.001       0.004\n",
      "hsa-mir-132        0.0004      0.001      0.618      0.537      -0.001       0.002\n",
      "hsa-mir-142     1.769e-06   6.62e-06      0.267      0.789   -1.13e-05    1.48e-05\n",
      "hsa-mir-143     2.187e-07   5.68e-07      0.385      0.700   -8.99e-07    1.34e-06\n",
      "hsa-mir-149     4.883e-05   9.43e-05      0.518      0.605      -0.000       0.000\n",
      "hsa-mir-151a    1.346e-06   1.52e-05      0.088      0.930   -2.86e-05    3.13e-05\n",
      "hsa-mir-152    -9.141e-05      0.000     -0.650      0.516      -0.000       0.000\n",
      "hsa-mir-1538      -0.1072      0.050     -2.155      0.032      -0.205      -0.009\n",
      "hsa-mir-155    -8.428e-05   6.93e-05     -1.216      0.225      -0.000    5.22e-05\n",
      "hsa-mir-15a    -8.434e-05      0.000     -0.375      0.708      -0.001       0.000\n",
      "hsa-mir-181a-2 -2.583e-05   2.15e-05     -1.199      0.232   -6.82e-05    1.66e-05\n",
      "hsa-mir-187       -0.0001      0.000     -1.088      0.277      -0.000    9.38e-05\n",
      "hsa-mir-1908      -0.2442      0.125     -1.952      0.052      -0.490       0.002\n",
      "hsa-mir-1911      -0.0166      0.015     -1.132      0.259      -0.046       0.012\n",
      "hsa-mir-1912       0.0809      0.077      1.050      0.295      -0.071       0.233\n",
      "hsa-mir-193a       0.0001   4.38e-05      3.157      0.002    5.21e-05       0.000\n",
      "hsa-mir-193b   -4.293e-06      0.000     -0.024      0.981      -0.000       0.000\n",
      "hsa-mir-195        0.0005      0.001      0.723      0.470      -0.001       0.002\n",
      "hsa-mir-196a-1     0.0002      0.000      0.606      0.545      -0.000       0.001\n",
      "hsa-mir-196a-2    -0.0001      0.000     -0.452      0.651      -0.001       0.000\n",
      "hsa-mir-19b-1  -1.393e-05      0.001     -0.024      0.981      -0.001       0.001\n",
      "hsa-mir-20a    -2.474e-05      0.000     -0.183      0.855      -0.000       0.000\n",
      "hsa-mir-21     -2.108e-07   1.91e-07     -1.103      0.271   -5.87e-07    1.65e-07\n",
      "hsa-mir-2114      -0.0126      0.006     -1.940      0.053      -0.025       0.000\n",
      "hsa-mir-212       -0.0079      0.007     -1.058      0.291      -0.023       0.007\n",
      "hsa-mir-218-1     -0.0030      0.005     -0.611      0.542      -0.012       0.007\n",
      "hsa-mir-218-2      0.0043      0.005      0.859      0.391      -0.006       0.014\n",
      "hsa-mir-219a-2     0.0508      0.019      2.671      0.008       0.013       0.088\n",
      "hsa-mir-219b      -0.1048      0.037     -2.861      0.005      -0.177      -0.033\n",
      "hsa-mir-221        0.0004      0.000      2.092      0.037     2.2e-05       0.001\n",
      "hsa-mir-23b     3.804e-05   3.18e-05      1.195      0.233   -2.46e-05       0.000\n",
      "hsa-mir-24-1      -0.0015      0.001     -2.279      0.023      -0.003      -0.000\n",
      "hsa-mir-24-2       0.0015      0.001      2.320      0.021       0.000       0.003\n",
      "hsa-mir-26a-1      0.0016      0.001      2.252      0.025       0.000       0.003\n",
      "hsa-mir-26a-2     -0.0016      0.001     -2.298      0.022      -0.003      -0.000\n",
      "hsa-mir-28     -1.595e-05   1.03e-05     -1.542      0.124   -3.63e-05    4.42e-06\n",
      "==============================================================================\n",
      "Omnibus:                      151.534   Durbin-Watson:                   2.016\n",
      "Prob(Omnibus):                  0.000   Jarque-Bera (JB):              548.799\n",
      "Skew:                           2.026   Prob(JB):                    6.76e-120\n",
      "Kurtosis:                       7.748   Cond. No.                     2.53e+07\n",
      "==============================================================================\n",
      "\n",
      "Notes:\n",
      "[1] Standard Errors assume that the covariance matrix of the errors is correctly specified.\n",
      "[2] The condition number is large, 2.53e+07. This might indicate that there are\n",
      "strong multicollinearity or other numerical problems.\n",
      "const             0.039596\n",
      "hsa-let-7c        0.329028\n",
      "hsa-let-7i        0.793365\n",
      "hsa-mir-103b-1    0.316623\n",
      "hsa-mir-107       0.213500\n",
      "                    ...   \n",
      "hsa-mir-24-1      0.023465\n",
      "hsa-mir-24-2      0.021066\n",
      "hsa-mir-26a-1     0.025104\n",
      "hsa-mir-26a-2     0.022296\n",
      "hsa-mir-28        0.124295\n",
      "Length: 65, dtype: float64\n",
      "15\n",
      "(338, 15)\n"
     ]
    }
   ],
   "source": [
    "dict= {}\n",
    "list = []\n",
    "for i in range(len(xtrain)):\n",
    "    y = ytrain\n",
    "    x = xtrain.iloc[:,i:i+1]\n",
    "    X = sm.add_constant(x)\n",
    "    model = sm.OLS(y, X).fit()\n",
    "    #print(model.summary())\n",
    "    P = model.f_pvalue\n",
    "    fea = x.columns.tolist()\n",
    "    if P <= 0.25:\n",
    "        dict[fea[0]] = P\n",
    "        list.append(fea[0])\n",
    "\n",
    "df = xtrain[list]\n",
    "y1 = ytrain\n",
    "X = sm.add_constant(df)\n",
    "model2 = sm.OLS(y1, X).fit()\n",
    "print(model2.summary())\n",
    "print(model2.pvalues)\n",
    "list2=[]\n",
    "for i in range(1,len(model2.pvalues)):\n",
    "    if model2.pvalues[i] <= 0.05:\n",
    "        list2.append(model2.pvalues.index.tolist()[i])\n",
    "print(len(list2))\n",
    "xtrain = xtrain[list2]\n",
    "xtest = xtest[list2]\n",
    "print(xtrain.shape)"
   ]
  },
  {
   "cell_type": "code",
   "execution_count": 6,
   "id": "2454f12d",
   "metadata": {},
   "outputs": [
    {
     "name": "stdout",
     "output_type": "stream",
     "text": [
      "下采样后的数据集：\n",
      "[(0, 36), (1, 36)]\n",
      "(72, 15)\n"
     ]
    }
   ],
   "source": [
    "# 下采样\n",
    "rus=RandomUnderSampler(sampling_strategy=1,random_state=18)\n",
    "xtrain,ytrain=rus.fit_resample(xtrain,ytrain)\n",
    "print('下采样后的数据集：')\n",
    "print(sorted(Counter(ytrain).items()))\n",
    "print(xtrain.shape)"
   ]
  },
  {
   "cell_type": "code",
   "execution_count": 7,
   "id": "c1c3c4c7",
   "metadata": {},
   "outputs": [
    {
     "data": {
      "text/plain": [
       "0.5142857142857142"
      ]
     },
     "execution_count": 7,
     "metadata": {},
     "output_type": "execute_result"
    }
   ],
   "source": [
    "forest = RandomForestClassifier(criterion='entropy',random_state=18)\n",
    "score_pre = cross_val_score(forest, xtrain, ytrain, cv=5).mean()\n",
    "score_pre"
   ]
  },
  {
   "cell_type": "code",
   "execution_count": 7,
   "id": "0bc963ff",
   "metadata": {},
   "outputs": [
    {
     "name": "stdout",
     "output_type": "stream",
     "text": [
      "最大得分：0.5696428571428572 子树数量为：191\n"
     ]
    }
   ],
   "source": [
    "# 调参，绘制学习曲线来调参n_estimators（对随机森林影响最大）\n",
    "score_lt = []\n",
    "# 每隔10步建立一个随机森林，获得不同n_estimators的得分\n",
    "for i in range(0,300,10):\n",
    "    rfc = RandomForestClassifier(criterion='entropy',n_estimators=i+1\n",
    "                                ,random_state=18)\n",
    "    score = cross_val_score(rfc,  xtrain, ytrain, cv=10).mean()\n",
    "    score_lt.append(score)\n",
    "score_max = max(score_lt)\n",
    "print('最大得分：{}'.format(score_max),\n",
    "      '子树数量为：{}'.format(score_lt.index(score_max)*10+1))"
   ]
  },
  {
   "cell_type": "code",
   "execution_count": 8,
   "id": "e2255bf6",
   "metadata": {},
   "outputs": [
    {
     "name": "stdout",
     "output_type": "stream",
     "text": [
      "最大得分：0.5696428571428572 子树数量为：190\n"
     ]
    }
   ],
   "source": [
    "# 调参，绘制学习曲线来调参n_estimators（对随机森林影响最大）\n",
    "score_lt = []\n",
    "# 每隔10步建立一个随机森林，获得不同n_estimators的得分\n",
    "for i in range(180,199,1):\n",
    "    rfc = RandomForestClassifier(criterion='entropy',n_estimators=i+1\n",
    "                                ,random_state=18)\n",
    "    score = cross_val_score(rfc,  xtrain, ytrain, cv=10).mean()\n",
    "    score_lt.append(score)\n",
    "score_max = max(score_lt)\n",
    "print('最大得分：{}'.format(score_max),\n",
    "      '子树数量为：{}'.format(score_lt.index(score_max)+180))"
   ]
  },
  {
   "cell_type": "code",
   "execution_count": 9,
   "id": "8a3aaca3",
   "metadata": {},
   "outputs": [
    {
     "name": "stdout",
     "output_type": "stream",
     "text": [
      "{'max_depth': 4} 0.5821428571428572\n"
     ]
    }
   ],
   "source": [
    "# 建立n_estimators为39的随机森林\n",
    "rfc = RandomForestClassifier(criterion='entropy',n_estimators=190, random_state=18)\n",
    "\n",
    "# 用网格搜索调整max_depth\n",
    "param_grid = {'max_depth':np.arange(1,20)}\n",
    "GS = GridSearchCV(rfc, param_grid, cv=10)\n",
    "GS.fit(  xtrain, ytrain)\n",
    "\n",
    "best_param = GS.best_params_\n",
    "best_score = GS.best_score_\n",
    "print(best_param, best_score)"
   ]
  },
  {
   "cell_type": "code",
   "execution_count": 10,
   "id": "94162c61",
   "metadata": {},
   "outputs": [
    {
     "name": "stdout",
     "output_type": "stream",
     "text": [
      "{'max_features': 3} 0.5821428571428572\n"
     ]
    }
   ],
   "source": [
    "# 用网格搜索调整max_features\n",
    "param_grid = {'max_features':np.arange(3,15)}\n",
    "\n",
    "rfc = RandomForestClassifier(criterion='entropy'\n",
    "                             ,n_estimators=190\n",
    "                            ,max_depth=4\n",
    "                             ,random_state=18\n",
    "                            )\n",
    "GS = GridSearchCV(rfc, param_grid, cv=10)\n",
    "GS.fit(xtrain, ytrain)\n",
    "best_param = GS.best_params_\n",
    "best_score = GS.best_score_\n",
    "print(best_param, best_score) "
   ]
  },
  {
   "cell_type": "code",
   "execution_count": 11,
   "id": "56ac9071",
   "metadata": {},
   "outputs": [
    {
     "name": "stdout",
     "output_type": "stream",
     "text": [
      "最大得分：0.6917948717948719 子树数量为：337\n"
     ]
    }
   ],
   "source": [
    "score_lt = []\n",
    "for i in range(0,500,1):\n",
    "    forest = RandomForestClassifier(criterion='entropy',n_estimators=178,random_state=i)\n",
    "    forest.fit(xtrain, ytrain)\n",
    "    forest_y_pred = forest.predict_proba(xtest)[:, 1]\n",
    "    forest_fprs,forest_tprs,forest_thresholds = roc_curve(ytest,forest_y_pred)\n",
    "    forest_roc_auc = auc(forest_fprs, forest_tprs)\n",
    "    score_lt.append(forest_roc_auc)\n",
    "    #print(forest_roc_auc)\n",
    "score_max = max(score_lt)\n",
    "print('最大得分：{}'.format(score_max),\n",
    "      '子树数量为：{}'.format(score_lt.index(score_max)))"
   ]
  },
  {
   "cell_type": "code",
   "execution_count": 8,
   "id": "3af074b5",
   "metadata": {},
   "outputs": [
    {
     "name": "stdout",
     "output_type": "stream",
     "text": [
      "混淆矩阵：\n",
      " [[91 39]\n",
      " [ 7  8]]\n",
      "0.7012820512820512\n"
     ]
    },
    {
     "data": {
      "text/plain": [
       "(0.6827586206896552,\n",
       " 0.1702127659574468,\n",
       " 0.5333333333333333,\n",
       " 0.25806451612903225)"
      ]
     },
     "execution_count": 8,
     "metadata": {},
     "output_type": "execute_result"
    }
   ],
   "source": [
    "forest = RandomForestClassifier(criterion='entropy',n_estimators=171,random_state=337)\n",
    "forest.fit(xtrain, ytrain)\n",
    "forest_y_pred = forest.predict_proba(xtest)[:, 1]\n",
    "forest_y_predict = forest.predict(xtest)\n",
    "forest_matrix = confusion_matrix(ytest,forest_y_predict)\n",
    "print('混淆矩阵：\\n',forest_matrix)\n",
    "forest_fprs,forest_tprs,forest_thresholds = roc_curve(ytest,forest_y_pred)\n",
    "forest_roc_auc = auc(forest_fprs, forest_tprs)\n",
    "print(forest_roc_auc)\n",
    "forest_acc = accuracy_score(ytest, forest_y_predict)\n",
    "forest_pre =precision_score(ytest, forest_y_predict)\n",
    "forest_recall =recall_score(ytest, forest_y_predict)\n",
    "forest_f1 =f1_score(ytest, forest_y_predict)\n",
    "forest_acc,forest_pre,forest_recall,forest_f1"
   ]
  },
  {
   "cell_type": "code",
   "execution_count": 23,
   "id": "630b5667",
   "metadata": {},
   "outputs": [
    {
     "name": "stdout",
     "output_type": "stream",
     "text": [
      "混淆矩阵：\n",
      " [[78 52]\n",
      " [ 8  7]]\n",
      "auc值: 0.6143589743589744\n"
     ]
    },
    {
     "name": "stderr",
     "output_type": "stream",
     "text": [
      "D:\\Anaconda1\\envs\\py36\\lib\\site-packages\\sklearn\\linear_model\\_logistic.py:765: ConvergenceWarning: lbfgs failed to converge (status=1):\n",
      "STOP: TOTAL NO. of ITERATIONS REACHED LIMIT.\n",
      "\n",
      "Increase the number of iterations (max_iter) or scale the data as shown in:\n",
      "    https://scikit-learn.org/stable/modules/preprocessing.html\n",
      "Please also refer to the documentation for alternative solver options:\n",
      "    https://scikit-learn.org/stable/modules/linear_model.html#logistic-regression\n",
      "  extra_warning_msg=_LOGISTIC_SOLVER_CONVERGENCE_MSG)\n"
     ]
    },
    {
     "data": {
      "text/plain": [
       "(0.5862068965517241,\n",
       " 0.11864406779661017,\n",
       " 0.4666666666666667,\n",
       " 0.18918918918918917)"
      ]
     },
     "execution_count": 23,
     "metadata": {},
     "output_type": "execute_result"
    }
   ],
   "source": [
    "logistic= LogisticRegression()\n",
    "logistic.fit(xtrain,ytrain)\n",
    "y_test_pred = logistic.predict_proba(xtest)[:, 1]\n",
    "y_predict_LR = logistic.predict(xtest)\n",
    "test_auc = roc_auc_score(ytest, y_test_pred)\n",
    "cnf_matrix = confusion_matrix(ytest,y_predict_LR)\n",
    "print('混淆矩阵：\\n',cnf_matrix)\n",
    "print('auc值:',test_auc)\n",
    "lrfprs,lrtprs,lrthresholds = roc_curve(ytest,y_test_pred)\n",
    "lrroc_auc = auc(lrfprs, lrtprs)\n",
    "lr_acc = accuracy_score(ytest, y_predict_LR)\n",
    "lr_pre =precision_score(ytest, y_predict_LR)\n",
    "lr_recall =recall_score(ytest,y_predict_LR)\n",
    "lr_f1 =f1_score(ytest, y_predict_LR)\n",
    "lr_acc,lr_pre,lr_recall,lr_f1"
   ]
  },
  {
   "cell_type": "code",
   "execution_count": 8,
   "id": "7e9c2f30",
   "metadata": {},
   "outputs": [
    {
     "name": "stdout",
     "output_type": "stream",
     "text": [
      "The best parameters are {'C': 1, 'gamma': 0.01, 'kernel': 'linear'} with a score of 0.57\n"
     ]
    }
   ],
   "source": [
    "from sklearn.model_selection import GridSearchCV\n",
    "param_grid = {'C':[0.01,0.1,1],'kernel':['rbf','poly','linear','sigmoid'],'gamma':[0.01,0.1,1]}\n",
    "grid = GridSearchCV(SVC(), param_grid, cv=5)\n",
    "grid.fit(xtrain,ytrain)\n",
    "print(\"The best parameters are %s with a score of %0.2f\"\n",
    "      % (grid.best_params_, grid.best_score_))"
   ]
  },
  {
   "cell_type": "code",
   "execution_count": 24,
   "id": "34fe756a",
   "metadata": {},
   "outputs": [
    {
     "name": "stdout",
     "output_type": "stream",
     "text": [
      "混淆矩阵：\n",
      " [[94 36]\n",
      " [10  5]]\n",
      "auc值: 0.5492307692307692\n",
      "auc值: 0.5492307692307692\n"
     ]
    },
    {
     "data": {
      "text/plain": [
       "(0.6827586206896552,\n",
       " 0.12195121951219512,\n",
       " 0.3333333333333333,\n",
       " 0.17857142857142858)"
      ]
     },
     "execution_count": 24,
     "metadata": {},
     "output_type": "execute_result"
    }
   ],
   "source": [
    "from sklearn.svm import SVC\n",
    "svc = SVC(kernel='linear',C=0.1,gamma=0.04,probability=True)\n",
    "svc.fit(xtrain,ytrain)\n",
    "y_test_pred = svc.predict_proba(xtest)[:, 1]\n",
    "y_predict_svc = svc.predict(xtest)\n",
    "test_auc = roc_auc_score(ytest, y_test_pred)\n",
    "cnf_matrix = confusion_matrix(ytest,y_predict_svc)\n",
    "print('混淆矩阵：\\n',cnf_matrix)\n",
    "print('auc值:',test_auc)\n",
    "svcfprs,svctprs,svcthresholds = roc_curve(ytest,y_test_pred)\n",
    "svcroc_auc = auc(svcfprs, svctprs)\n",
    "print('auc值:',svcroc_auc)\n",
    "svc_acc = accuracy_score(ytest, y_predict_svc)\n",
    "svc_pre =precision_score(ytest, y_predict_svc)\n",
    "svc_recall =recall_score(ytest, y_predict_svc)\n",
    "svc_f1 =f1_score(ytest, y_predict_svc)\n",
    "svc_acc,svc_pre,svc_recall,svc_f1"
   ]
  },
  {
   "cell_type": "markdown",
   "id": "4556241d",
   "metadata": {},
   "source": [
    "ROC曲线"
   ]
  },
  {
   "cell_type": "code",
   "execution_count": 18,
   "id": "dbcdc405",
   "metadata": {},
   "outputs": [
    {
     "data": {
      "image/png": "[encoded data removed]",
      "text/plain": [
       "<Figure size 432x288 with 1 Axes>"
      ]
     },
     "metadata": {
      "needs_background": "light"
     },
     "output_type": "display_data"
    }
   ],
   "source": [
    "import matplotlib.pyplot as plt\n",
    "plt.title('ROC Curve',family='Arial',fontsize=10)\n",
    "plt.plot(forest_fprs,forest_tprs, '#669999', label='Forest AUC = %0.2f' % forest_roc_auc)  # 随机森林\n",
    "plt.plot(lrfprs,lrtprs, '#CCCCCC', label='Logistic AUC = %0.2f' % lrroc_auc)  # 逻辑回归\n",
    "plt.plot(svcfprs,svctprs, '#CC99CC', label=' SVM AUC = %0.2f' %svcroc_auc)  # 支持向量机\n",
    "plt.legend(loc='lower right',fontsize=10,prop='Arial')\n",
    "plt.plot([0, 1], [0, 1], '#FF6666')\n",
    "plt.xlim([0, 1])\n",
    "plt.ylim([0, 1])\n",
    "plt.ylabel('True Positive Rate',family='Arial',size=10)\n",
    "plt.xlabel('False Positive Rate',family='Arial',size=10)\n",
    "plt.savefig(r'三种机器学习模型ROC曲线.pdf')\n",
    "plt.show()"
   ]
  },
  {
   "cell_type": "markdown",
   "id": "750d3dc1",
   "metadata": {},
   "source": [
    "四种评估指标"
   ]
  },
  {
   "cell_type": "code",
   "execution_count": 28,
   "id": "84c879c4",
   "metadata": {},
   "outputs": [
    {
     "data": {
      "image/png": "[encoded data removed]",
      "text/plain": [
       "<Figure size 432x288 with 1 Axes>"
      ]
     },
     "metadata": {
      "needs_background": "light"
     },
     "output_type": "display_data"
    }
   ],
   "source": [
    "names = ('Accuracy', 'Precision', 'Sensitivity','F1-score')\n",
    "\n",
    "forest = [0.68,0.17,0.53,0.26]\n",
    "logistic=[0.59,0.12,0.47,0.19]\n",
    "svm=[0.68, 0.12,0.33,0.19]\n",
    "\n",
    "bar_width = 0.25  # 条形宽度\n",
    "index_ACC = [1.25,2.5,3.75,5.0]\n",
    "index_Pre = [1.5,2.75,4.0,5.25]\n",
    "index_Sn = [1.75,3.0,4.25,5.5]\n",
    "index_MCC = [2.0,3.25,4.5,5.75]\n",
    "plt.title('Comparison Chat of Different Methods',family='Arial',fontsize=10)\n",
    "plt.bar(index_ACC, height=forest, width=bar_width, color='#336699', label='Forest')\n",
    "plt.bar(index_Pre, height=logistic, width=bar_width, color='#669999', label='Logistic')\n",
    "plt.bar(index_Sn, height=svm, width=bar_width, color='#CCCCCC', label='SVM')\n",
    "\n",
    "plt.legend(loc='best',fontsize=8,prop='Arial') # 显示图例\n",
    "plt.xticks(index_Pre, names,size=10,family='Arial')  # 让横坐标轴刻度显示names， index_AUC + bar_width/2 为横坐标轴刻度的位置\n",
    "#plt.title('对比图') # 图形标题\n",
    "plt.savefig('四种评估方法的对比图.pdf')\n",
    "plt.show()"
   ]
  },
  {
   "cell_type": "markdown",
   "id": "df32bae2",
   "metadata": {},
   "source": [
    "单个组学预测"
   ]
  },
  {
   "cell_type": "markdown",
   "id": "2c61bbc0",
   "metadata": {},
   "source": [
    "miRNA"
   ]
  },
  {
   "cell_type": "code",
   "execution_count": 54,
   "id": "f9b50ceb",
   "metadata": {},
   "outputs": [
    {
     "name": "stdout",
     "output_type": "stream",
     "text": [
      "(483, 1881)\n"
     ]
    },
    {
     "data": {
      "text/plain": [
       "0    432\n",
       "1     51\n",
       "Name: label, dtype: int64"
      ]
     },
     "execution_count": 54,
     "metadata": {},
     "output_type": "execute_result"
    }
   ],
   "source": [
    "#mi = pd.read_csv(r'miRNA.csv',header=0,index_col = 0)\n",
    "mix = data1.iloc[:,1:1882]\n",
    "miy = data1.iloc[:,0]\n",
    "print(mix.shape)\n",
    "miy.value_counts() "
   ]
  },
  {
   "cell_type": "code",
   "execution_count": 55,
   "id": "ed515101",
   "metadata": {},
   "outputs": [
    {
     "data": {
      "text/plain": [
       "(338, 1881)"
      ]
     },
     "execution_count": 55,
     "metadata": {},
     "output_type": "execute_result"
    }
   ],
   "source": [
    "mixtrain,  mixtest, miytrain, miytest = train_test_split(mix, miy, test_size=0.3, stratify=miy,random_state=18)\n",
    "mixtrain.shape"
   ]
  },
  {
   "cell_type": "code",
   "execution_count": 56,
   "id": "6b4efedd",
   "metadata": {
    "scrolled": true
   },
   "outputs": [
    {
     "name": "stdout",
     "output_type": "stream",
     "text": [
      "                            OLS Regression Results                            \n",
      "==============================================================================\n",
      "Dep. Variable:                  label   R-squared:                       0.404\n",
      "Model:                            OLS   Adj. R-squared:                  0.264\n",
      "Method:                 Least Squares   F-statistic:                     2.893\n",
      "Date:                Fri, 21 Jan 2022   Prob (F-statistic):           1.06e-09\n",
      "Time:                        18:27:35   Log-Likelihood:                 5.4075\n",
      "No. Observations:                 338   AIC:                             119.2\n",
      "Df Residuals:                     273   BIC:                             367.7\n",
      "Df Model:                          64                                         \n",
      "Covariance Type:            nonrobust                                         \n",
      "==================================================================================\n",
      "                     coef    std err          t      P>|t|      [0.025      0.975]\n",
      "----------------------------------------------------------------------------------\n",
      "const              0.2028      0.098      2.068      0.040       0.010       0.396\n",
      "hsa-let-7c     -1.297e-05   1.33e-05     -0.978      0.329   -3.91e-05    1.31e-05\n",
      "hsa-let-7i     -3.549e-05      0.000     -0.262      0.793      -0.000       0.000\n",
      "hsa-mir-103b-1     0.8328      0.830      1.003      0.317      -0.801       2.467\n",
      "hsa-mir-107        0.0006      0.001      1.247      0.213      -0.000       0.002\n",
      "hsa-mir-1180      -0.0010      0.001     -0.743      0.458      -0.004       0.002\n",
      "hsa-mir-1181       0.0756      0.055      1.364      0.174      -0.034       0.185\n",
      "hsa-mir-1184-3     2.9829      1.298      2.298      0.022       0.428       5.538\n",
      "hsa-mir-1193      -0.4400      0.273     -1.611      0.108      -0.978       0.098\n",
      "hsa-mir-1204       0.4546      0.417      1.089      0.277      -0.367       1.276\n",
      "hsa-mir-1231       0.1447      0.149      0.972      0.332      -0.148       0.438\n",
      "hsa-mir-1238      -0.0129      0.158     -0.082      0.935      -0.324       0.298\n",
      "hsa-mir-1243       0.0784      0.108      0.723      0.470      -0.135       0.292\n",
      "hsa-mir-1245b      0.1882      0.129      1.456      0.147      -0.066       0.443\n",
      "hsa-mir-1246       0.1345      0.136      0.986      0.325      -0.134       0.403\n",
      "hsa-mir-1247       0.0002      0.000      1.522      0.129   -7.13e-05       0.001\n",
      "hsa-mir-1249       0.0105      0.011      0.967      0.334      -0.011       0.032\n",
      "hsa-mir-1260b     -0.1209      0.088     -1.368      0.173      -0.295       0.053\n",
      "hsa-mir-1273h     -0.2101      0.135     -1.558      0.120      -0.476       0.055\n",
      "hsa-mir-1276       0.0312      0.049      0.639      0.523      -0.065       0.127\n",
      "hsa-mir-1277      -0.0284      0.014     -1.995      0.047      -0.056      -0.000\n",
      "hsa-mir-1278       0.1215      0.116      1.049      0.295      -0.107       0.350\n",
      "hsa-mir-1281       0.8605      0.398      2.162      0.032       0.077       1.644\n",
      "hsa-mir-1283-1    -0.0021      0.068     -0.031      0.975      -0.136       0.132\n",
      "hsa-mir-1283-2     0.0045      0.047      0.096      0.923      -0.088       0.097\n",
      "hsa-mir-1293       0.0453      0.014      3.331      0.001       0.019       0.072\n",
      "hsa-mir-1295b      0.0467      0.013      3.472      0.001       0.020       0.073\n",
      "hsa-mir-1306      -0.0007      0.003     -0.289      0.773      -0.006       0.004\n",
      "hsa-mir-130a      -0.0006      0.000     -1.494      0.136      -0.001       0.000\n",
      "hsa-mir-130b       0.0024      0.001      2.563      0.011       0.001       0.004\n",
      "hsa-mir-132        0.0004      0.001      0.618      0.537      -0.001       0.002\n",
      "hsa-mir-142     1.769e-06   6.62e-06      0.267      0.789   -1.13e-05    1.48e-05\n",
      "hsa-mir-143     2.187e-07   5.68e-07      0.385      0.700   -8.99e-07    1.34e-06\n",
      "hsa-mir-149     4.883e-05   9.43e-05      0.518      0.605      -0.000       0.000\n",
      "hsa-mir-151a    1.346e-06   1.52e-05      0.088      0.930   -2.86e-05    3.13e-05\n",
      "hsa-mir-152    -9.141e-05      0.000     -0.650      0.516      -0.000       0.000\n",
      "hsa-mir-1538      -0.1072      0.050     -2.155      0.032      -0.205      -0.009\n",
      "hsa-mir-155    -8.428e-05   6.93e-05     -1.216      0.225      -0.000    5.22e-05\n",
      "hsa-mir-15a    -8.434e-05      0.000     -0.375      0.708      -0.001       0.000\n",
      "hsa-mir-181a-2 -2.583e-05   2.15e-05     -1.199      0.232   -6.82e-05    1.66e-05\n",
      "hsa-mir-187       -0.0001      0.000     -1.088      0.277      -0.000    9.38e-05\n",
      "hsa-mir-1908      -0.2442      0.125     -1.952      0.052      -0.490       0.002\n",
      "hsa-mir-1911      -0.0166      0.015     -1.132      0.259      -0.046       0.012\n",
      "hsa-mir-1912       0.0809      0.077      1.050      0.295      -0.071       0.233\n",
      "hsa-mir-193a       0.0001   4.38e-05      3.157      0.002    5.21e-05       0.000\n",
      "hsa-mir-193b   -4.293e-06      0.000     -0.024      0.981      -0.000       0.000\n",
      "hsa-mir-195        0.0005      0.001      0.723      0.470      -0.001       0.002\n",
      "hsa-mir-196a-1     0.0002      0.000      0.606      0.545      -0.000       0.001\n",
      "hsa-mir-196a-2    -0.0001      0.000     -0.452      0.651      -0.001       0.000\n",
      "hsa-mir-19b-1  -1.393e-05      0.001     -0.024      0.981      -0.001       0.001\n",
      "hsa-mir-20a    -2.474e-05      0.000     -0.183      0.855      -0.000       0.000\n",
      "hsa-mir-21     -2.108e-07   1.91e-07     -1.103      0.271   -5.87e-07    1.65e-07\n",
      "hsa-mir-2114      -0.0126      0.006     -1.940      0.053      -0.025       0.000\n",
      "hsa-mir-212       -0.0079      0.007     -1.058      0.291      -0.023       0.007\n",
      "hsa-mir-218-1     -0.0030      0.005     -0.611      0.542      -0.012       0.007\n",
      "hsa-mir-218-2      0.0043      0.005      0.859      0.391      -0.006       0.014\n",
      "hsa-mir-219a-2     0.0508      0.019      2.671      0.008       0.013       0.088\n",
      "hsa-mir-219b      -0.1048      0.037     -2.861      0.005      -0.177      -0.033\n",
      "hsa-mir-221        0.0004      0.000      2.092      0.037     2.2e-05       0.001\n",
      "hsa-mir-23b     3.804e-05   3.18e-05      1.195      0.233   -2.46e-05       0.000\n",
      "hsa-mir-24-1      -0.0015      0.001     -2.279      0.023      -0.003      -0.000\n",
      "hsa-mir-24-2       0.0015      0.001      2.320      0.021       0.000       0.003\n",
      "hsa-mir-26a-1      0.0016      0.001      2.252      0.025       0.000       0.003\n",
      "hsa-mir-26a-2     -0.0016      0.001     -2.298      0.022      -0.003      -0.000\n",
      "hsa-mir-28     -1.595e-05   1.03e-05     -1.542      0.124   -3.63e-05    4.42e-06\n",
      "==============================================================================\n",
      "Omnibus:                      151.534   Durbin-Watson:                   2.016\n",
      "Prob(Omnibus):                  0.000   Jarque-Bera (JB):              548.799\n",
      "Skew:                           2.026   Prob(JB):                    6.76e-120\n",
      "Kurtosis:                       7.748   Cond. No.                     2.53e+07\n",
      "==============================================================================\n",
      "\n",
      "Notes:\n",
      "[1] Standard Errors assume that the covariance matrix of the errors is correctly specified.\n",
      "[2] The condition number is large, 2.53e+07. This might indicate that there are\n",
      "strong multicollinearity or other numerical problems.\n",
      "const             0.039596\n",
      "hsa-let-7c        0.329028\n",
      "hsa-let-7i        0.793365\n",
      "hsa-mir-103b-1    0.316623\n",
      "hsa-mir-107       0.213500\n",
      "                    ...   \n",
      "hsa-mir-24-1      0.023465\n",
      "hsa-mir-24-2      0.021066\n",
      "hsa-mir-26a-1     0.025104\n",
      "hsa-mir-26a-2     0.022296\n",
      "hsa-mir-28        0.124295\n",
      "Length: 65, dtype: float64\n",
      "15\n",
      "(338, 15)\n"
     ]
    }
   ],
   "source": [
    "dict= {}\n",
    "list = []\n",
    "for i in range(len(mixtrain)):\n",
    "    miy = miytrain\n",
    "    mix = mixtrain.iloc[:,i:i+1]\n",
    "    miX = sm.add_constant(mix)\n",
    "    model = sm.OLS(miy, miX).fit()\n",
    "    #print(model.summary())\n",
    "    P = model.f_pvalue\n",
    "    mifea = mix.columns.tolist()\n",
    "    if P <= 0.25:\n",
    "        dict[mifea[0]] = P\n",
    "        list.append(mifea[0])\n",
    "\n",
    "midf = mixtrain[list]\n",
    "miy1 = miytrain\n",
    "miX = sm.add_constant(midf)\n",
    "model2 = sm.OLS(miy1, miX).fit()\n",
    "print(model2.summary())\n",
    "print(model2.pvalues)\n",
    "list2=[]\n",
    "for i in range(1,len(model2.pvalues)):\n",
    "    if model2.pvalues[i] <= 0.05:\n",
    "        list2.append(model2.pvalues.index.tolist()[i])\n",
    "print(len(list2))\n",
    "mixtrain = mixtrain[list2]\n",
    "mixtest = mixtest[list2]\n",
    "print(mixtrain.shape)"
   ]
  },
  {
   "cell_type": "code",
   "execution_count": 57,
   "id": "9ad046c5",
   "metadata": {},
   "outputs": [
    {
     "name": "stdout",
     "output_type": "stream",
     "text": [
      "下采样后的数据集：\n",
      "[(0, 36), (1, 36)]\n",
      "(72, 15)\n"
     ]
    }
   ],
   "source": [
    "# 下采样\n",
    "rus=RandomUnderSampler(sampling_strategy=1,random_state=18)\n",
    "mixtrain,miytrain=rus.fit_resample(mixtrain,miytrain)\n",
    "print('下采样后的数据集：')\n",
    "print(sorted(Counter(miytrain).items()))\n",
    "print(mixtrain.shape)"
   ]
  },
  {
   "cell_type": "code",
   "execution_count": 64,
   "id": "7ce9e9f8",
   "metadata": {},
   "outputs": [
    {
     "name": "stdout",
     "output_type": "stream",
     "text": [
      "ytest ID\n",
      "TCGA-A8-A07S    0\n",
      "TCGA-E9-A5UP    0\n",
      "TCGA-AO-A03T    0\n",
      "TCGA-E2-A15I    0\n",
      "TCGA-EW-A6S9    0\n",
      "               ..\n",
      "TCGA-LL-A6FR    0\n",
      "TCGA-OL-A5D7    0\n",
      "TCGA-A7-A0CG    0\n",
      "TCGA-AR-A255    0\n",
      "TCGA-E9-A3Q9    0\n",
      "Name: label, Length: 145, dtype: int64\n",
      "y_predict      0\n",
      "0    0\n",
      "1    0\n",
      "2    0\n",
      "3    0\n",
      "4    0\n",
      "..  ..\n",
      "140  0\n",
      "141  0\n",
      "142  0\n",
      "143  1\n",
      "144  1\n",
      "\n",
      "[145 rows x 1 columns]\n"
     ]
    }
   ],
   "source": [
    "# 预测结果\n",
    "miforest = RandomForestClassifier(criterion='entropy',n_estimators=171,random_state=337)\n",
    "miforest.fit(mixtrain, miytrain)\n",
    "miforest_y_predict = miforest.predict(mixtest)\n",
    "pri_value = pd.DataFrame(miforest_y_predict)\n",
    "miytest.to_csv('label_y.csv')\n",
    "print('ytest',miytest)\n",
    "print('y_predict',pri_value)\n",
    "pri_value.to_csv('label_yy.csv')"
   ]
  },
  {
   "cell_type": "code",
   "execution_count": 13,
   "id": "f0ce4453",
   "metadata": {},
   "outputs": [
    {
     "name": "stdout",
     "output_type": "stream",
     "text": [
      "混淆矩阵：\n",
      " [[91 39]\n",
      " [ 7  8]]\n",
      "0.7012820512820512\n"
     ]
    },
    {
     "data": {
      "text/plain": [
       "(0.6827586206896552,\n",
       " 0.1702127659574468,\n",
       " 0.5333333333333333,\n",
       " 0.25806451612903225)"
      ]
     },
     "execution_count": 13,
     "metadata": {},
     "output_type": "execute_result"
    }
   ],
   "source": [
    "miforest = RandomForestClassifier(criterion='entropy',n_estimators=171,random_state=337)\n",
    "miforest.fit(mixtrain, miytrain)\n",
    "miforest_y_pred = miforest.predict_proba(mixtest)[:, 1]\n",
    "miforest_y_predict = miforest.predict(mixtest)\n",
    "miforest_matrix = confusion_matrix(miytest,miforest_y_predict)\n",
    "print('混淆矩阵：\\n',miforest_matrix)\n",
    "miforest_fprs,miforest_tprs,miforest_thresholds = roc_curve(miytest,miforest_y_pred)\n",
    "miforest_roc_auc = auc(miforest_fprs, miforest_tprs)\n",
    "print(miforest_roc_auc)\n",
    "miforest_acc = accuracy_score(miytest, miforest_y_predict)\n",
    "miforest_pre =precision_score(miytest, miforest_y_predict)\n",
    "miforest_recall =recall_score(miytest, miforest_y_predict)\n",
    "miforest_f1 =f1_score(miytest, miforest_y_predict)\n",
    "miforest_acc,miforest_pre,miforest_recall,miforest_f1"
   ]
  },
  {
   "cell_type": "markdown",
   "id": "f380bfe8",
   "metadata": {},
   "source": [
    "lncRNA"
   ]
  },
  {
   "cell_type": "code",
   "execution_count": 14,
   "id": "15142297",
   "metadata": {},
   "outputs": [
    {
     "name": "stdout",
     "output_type": "stream",
     "text": [
      "(483, 7315)\n"
     ]
    },
    {
     "data": {
      "text/plain": [
       "0    432\n",
       "1     51\n",
       "Name: label, dtype: int64"
      ]
     },
     "execution_count": 14,
     "metadata": {},
     "output_type": "execute_result"
    }
   ],
   "source": [
    "#lnc = pd.read_csv(r'lncRNA.csv',header=0,index_col = 0)\n",
    "lncx = data1.iloc[:,62365:69680]\n",
    "lncy =data1.iloc[:,0]\n",
    "print(lncx.shape)\n",
    "lncy.value_counts() "
   ]
  },
  {
   "cell_type": "code",
   "execution_count": 15,
   "id": "fd8e26a0",
   "metadata": {},
   "outputs": [
    {
     "data": {
      "text/plain": [
       "(338, 7315)"
      ]
     },
     "execution_count": 15,
     "metadata": {},
     "output_type": "execute_result"
    }
   ],
   "source": [
    "lncxtrain,  lncxtest,lncytrain, lncytest = train_test_split(lncx, lncy, test_size=0.3, stratify=lncy,random_state=18)\n",
    "lncxtrain.shape"
   ]
  },
  {
   "cell_type": "code",
   "execution_count": 16,
   "id": "cb88baf3",
   "metadata": {},
   "outputs": [
    {
     "name": "stdout",
     "output_type": "stream",
     "text": [
      "                            OLS Regression Results                            \n",
      "==============================================================================\n",
      "Dep. Variable:                  label   R-squared:                       0.422\n",
      "Model:                            OLS   Adj. R-squared:                  0.273\n",
      "Method:                 Least Squares   F-statistic:                     2.837\n",
      "Date:                Fri, 21 Jan 2022   Prob (F-statistic):           1.01e-09\n",
      "Time:                        18:03:49   Log-Likelihood:                 10.581\n",
      "No. Observations:                 338   AIC:                             118.8\n",
      "Df Residuals:                     268   BIC:                             386.5\n",
      "Df Model:                          69                                         \n",
      "Covariance Type:            nonrobust                                         \n",
      "===================================================================================\n",
      "                      coef    std err          t      P>|t|      [0.025      0.975]\n",
      "-----------------------------------------------------------------------------------\n",
      "const               0.1294      0.073      1.773      0.077      -0.014       0.273\n",
      "RP4-669L17.2        2.9590      3.119      0.949      0.344      -3.182       9.100\n",
      "RP11-54O7.3         0.0043      0.006      0.670      0.503      -0.008       0.017\n",
      "RP4-758J18.13      -0.0055      0.013     -0.426      0.671      -0.031       0.020\n",
      "RP11-168F9.2        0.0093      0.043      0.218      0.827      -0.075       0.093\n",
      "LINC01134          -0.1326      0.125     -1.061      0.290      -0.379       0.113\n",
      "RP11-154H17.1      -0.6640      1.467     -0.453      0.651      -3.553       2.225\n",
      "RP11-242F24.1       4.8595      2.711      1.792      0.074      -0.479      10.198\n",
      "RP11-338N10.2      -0.0675      0.078     -0.864      0.388      -0.221       0.086\n",
      "RP11-338N10.3       0.0033      0.022      0.155      0.877      -0.039       0.046\n",
      "RP11-431K24.4      -1.3910      1.151     -1.208      0.228      -3.658       0.876\n",
      "RP5-888M10.2        0.2262      0.186      1.213      0.226      -0.141       0.593\n",
      "RP11-474O21.5      -0.0110      0.025     -0.437      0.662      -0.060       0.038\n",
      "RP11-219C24.10      2.4359      0.760      3.207      0.002       0.940       3.931\n",
      "RP3-340N1.6        -0.6729      3.028     -0.222      0.824      -6.635       5.289\n",
      "LINC00339          -0.0070      0.005     -1.382      0.168      -0.017       0.003\n",
      "RP1-150O5.3         0.0646      0.025      2.550      0.011       0.015       0.115\n",
      "RP11-10N16.2       -1.2112      1.000     -1.212      0.227      -3.179       0.757\n",
      "RP4-594I10.3       -0.1834      0.217     -0.843      0.400      -0.612       0.245\n",
      "RP11-288L9.1       -0.1164      0.065     -1.801      0.073      -0.244       0.011\n",
      "RP4-591L5.1         0.0538      0.671      0.080      0.936      -1.268       1.376\n",
      "RP4-811H24.9       -0.2805      0.234     -1.201      0.231      -0.740       0.179\n",
      "RP4-784A16.5        0.0705      0.117      0.603      0.547      -0.160       0.301\n",
      "RP11-117D22.2       0.0298      0.104      0.287      0.775      -0.175       0.234\n",
      "RP5-866L20.1        1.5370      1.059      1.451      0.148      -0.548       3.622\n",
      "RP4-794H19.1       -0.0573      0.045     -1.280      0.202      -0.146       0.031\n",
      "RP11-776H12.1       0.0672      0.061      1.098      0.273      -0.053       0.188\n",
      "RP11-5P4.3          1.0859      0.438      2.478      0.014       0.223       1.949\n",
      "RP11-335E6.2       -1.6343      0.678     -2.412      0.017      -2.968      -0.300\n",
      "LINC00466           0.0528      0.143      0.369      0.712      -0.229       0.335\n",
      "RP11-335E6.3       -0.1019      0.228     -0.446      0.656      -0.552       0.348\n",
      "RP3-380B4.1         0.8348      0.846      0.986      0.325      -0.832       2.501\n",
      "RP4-660H19.1        0.1264      0.084      1.498      0.135      -0.040       0.292\n",
      "RP4-788P17.1        1.7638      2.968      0.594      0.553      -4.079       7.607\n",
      "RP11-17E13.2        0.0961      0.045      2.157      0.032       0.008       0.184\n",
      "RP5-1102E8.3        0.7314      0.431      1.697      0.091      -0.117       1.580\n",
      "RP5-887A10.1        0.0064      0.036      0.179      0.858      -0.064       0.077\n",
      "RP11-147G16.1       0.3730      0.317      1.176      0.241      -0.252       0.998\n",
      "LINC01362           2.0833      1.078      1.932      0.054      -0.040       4.206\n",
      "LINC01361           0.4417      0.358      1.233      0.219      -0.264       1.147\n",
      "LINC01555          -0.2210      0.581     -0.380      0.704      -1.366       0.924\n",
      "RP11-290M5.2       -0.1713      0.124     -1.381      0.168      -0.415       0.073\n",
      "RP11-302M6.5       -0.1461      0.168     -0.870      0.385      -0.477       0.185\n",
      "RP11-148B18.4       0.2144      0.085      2.513      0.013       0.046       0.382\n",
      "RP11-286B14.2       0.0174      0.009      1.921      0.056      -0.000       0.035\n",
      "RP5-965F6.2        -0.0347      0.079     -0.437      0.662      -0.191       0.122\n",
      "RP4-655J12.4        0.0463      0.106      0.435      0.664      -0.163       0.256\n",
      "RP5-1086K13.1       0.0319      0.111      0.288      0.774      -0.186       0.250\n",
      "RP4-712E4.1        -0.2718      0.467     -0.582      0.561      -1.191       0.647\n",
      "RP4-712E4.2         0.4510      0.548      0.823      0.411      -0.628       1.530\n",
      "RP5-834N19.1        0.1745      0.128      1.367      0.173      -0.077       0.426\n",
      "RP11-344P13.4      -0.2135      0.274     -0.779      0.436      -0.753       0.326\n",
      "RP11-344P13.6      -0.0425      0.023     -1.833      0.068      -0.088       0.003\n",
      "RP11-403I13.5       0.0447      0.099      0.452      0.652      -0.150       0.240\n",
      "RP11-403I13.7       4.9096      1.791      2.742      0.007       1.384       8.435\n",
      "RP5-998N21.4       -0.0691      0.382     -0.181      0.857      -0.821       0.683\n",
      "RP11-14N7.2         0.0013      0.051      0.025      0.980      -0.099       0.101\n",
      "CH17-125A10.2       0.6466      0.917      0.705      0.481      -1.159       2.452\n",
      "RP11-458D21.1      -0.0913      0.050     -1.833      0.068      -0.189       0.007\n",
      "RP4-704D21.2       -1.3068      2.767     -0.472      0.637      -6.755       4.141\n",
      "RP11-433J22.3       1.6152      1.402      1.152      0.250      -1.146       4.376\n",
      "XXyac-YX155B6.7     0.1627      0.151      1.078      0.282      -0.134       0.460\n",
      "XXyac-YX155B6.5    -0.1147      0.934     -0.123      0.902      -1.953       1.724\n",
      "RP11-495P10.6      -0.0579      0.136     -0.426      0.671      -0.325       0.210\n",
      "RP4-791M13.3       -0.7072      0.996     -0.710      0.478      -2.668       1.253\n",
      "FALEC               0.0745      0.042      1.780      0.076      -0.008       0.157\n",
      "RP11-126K1.9        0.6020      0.240      2.505      0.013       0.129       1.075\n",
      "RP11-139I14.2      -3.3796      2.234     -1.513      0.131      -7.778       1.019\n",
      "RP11-284F21.8      -2.4873      1.330     -1.871      0.062      -5.105       0.130\n",
      "RP11-404O13.1       0.2730      0.232      1.176      0.241      -0.184       0.730\n",
      "==============================================================================\n",
      "Omnibus:                      141.554   Durbin-Watson:                   2.065\n",
      "Prob(Omnibus):                  0.000   Jarque-Bera (JB):              478.120\n",
      "Skew:                           1.905   Prob(JB):                    1.51e-104\n",
      "Kurtosis:                       7.408   Cond. No.                     2.48e+03\n",
      "==============================================================================\n",
      "\n",
      "Notes:\n",
      "[1] Standard Errors assume that the covariance matrix of the errors is correctly specified.\n",
      "[2] The condition number is large, 2.48e+03. This might indicate that there are\n",
      "strong multicollinearity or other numerical problems.\n",
      "const            0.077364\n",
      "RP4-669L17.2     0.343606\n",
      "RP11-54O7.3      0.503138\n",
      "RP4-758J18.13    0.670670\n",
      "RP11-168F9.2     0.827359\n",
      "                   ...   \n",
      "FALEC            0.076228\n",
      "RP11-126K1.9     0.012829\n",
      "RP11-139I14.2    0.131499\n",
      "RP11-284F21.8    0.062467\n",
      "RP11-404O13.1    0.240688\n",
      "Length: 70, dtype: float64\n",
      "8\n",
      "(338, 8)\n"
     ]
    }
   ],
   "source": [
    "dict= {}\n",
    "list = []\n",
    "for i in range(len(lncxtrain)):\n",
    "    lncy = lncytrain\n",
    "    lncx = lncxtrain.iloc[:,i:i+1]\n",
    "    lncX = sm.add_constant(lncx)\n",
    "    model = sm.OLS(lncy, lncX).fit()\n",
    "    #print(model.summary())\n",
    "    P = model.f_pvalue\n",
    "    lncfea = lncx.columns.tolist()\n",
    "    if P <= 0.25:\n",
    "        dict[lncfea[0]] = P\n",
    "        list.append(lncfea[0])\n",
    "\n",
    "lncdf = lncxtrain[list]\n",
    "lncy1 = lncytrain\n",
    "lncX = sm.add_constant(lncdf)\n",
    "model2 = sm.OLS(lncy1, lncX).fit()\n",
    "print(model2.summary())\n",
    "print(model2.pvalues)\n",
    "list2=[]\n",
    "for i in range(1,len(model2.pvalues)):\n",
    "    if model2.pvalues[i] <= 0.05:\n",
    "        list2.append(model2.pvalues.index.tolist()[i])\n",
    "print(len(list2))\n",
    "lncxtrain = lncxtrain[list2]\n",
    "lncxtest = lncxtest[list2]\n",
    "print(lncxtrain.shape)"
   ]
  },
  {
   "cell_type": "code",
   "execution_count": 17,
   "id": "d9fca4ad",
   "metadata": {},
   "outputs": [
    {
     "name": "stdout",
     "output_type": "stream",
     "text": [
      "下采样后的数据集：\n",
      "[(0, 36), (1, 36)]\n",
      "(72, 8)\n"
     ]
    }
   ],
   "source": [
    "# 下采样\n",
    "rus=RandomUnderSampler(sampling_strategy=1,random_state=18)\n",
    "lncxtrain,lncytrain=rus.fit_resample(lncxtrain,lncytrain)\n",
    "print('下采样后的数据集：')\n",
    "print(sorted(Counter(lncytrain).items()))\n",
    "print(lncxtrain.shape)"
   ]
  },
  {
   "cell_type": "code",
   "execution_count": 18,
   "id": "95d5b313",
   "metadata": {},
   "outputs": [
    {
     "name": "stdout",
     "output_type": "stream",
     "text": [
      "混淆矩阵：\n",
      " [[73 57]\n",
      " [ 7  8]]\n",
      "0.566923076923077\n"
     ]
    },
    {
     "data": {
      "text/plain": [
       "(0.5586206896551724, 0.12307692307692308, 0.5333333333333333, 0.2)"
      ]
     },
     "execution_count": 18,
     "metadata": {},
     "output_type": "execute_result"
    }
   ],
   "source": [
    "lncforest = RandomForestClassifier(criterion='entropy',n_estimators=171,random_state=18)\n",
    "lncforest.fit(lncxtrain, lncytrain)\n",
    "lncforest_y_pred = lncforest.predict_proba(lncxtest)[:, 1]\n",
    "lncforest_y_predict = lncforest.predict(lncxtest)\n",
    "lncforest_matrix = confusion_matrix(lncytest,lncforest_y_predict)\n",
    "print('混淆矩阵：\\n',lncforest_matrix)\n",
    "lncforest_fprs,lncforest_tprs,lncforest_thresholds = roc_curve(lncytest,lncforest_y_pred)\n",
    "lncforest_roc_auc = auc(lncforest_fprs, lncforest_tprs)\n",
    "print(lncforest_roc_auc)\n",
    "lncforest_acc = accuracy_score(lncytest, lncforest_y_predict)\n",
    "lncforest_pre =precision_score(lncytest, lncforest_y_predict)\n",
    "lncforest_recall =recall_score(lncytest, lncforest_y_predict)\n",
    "lncforest_f1 =f1_score(lncytest, lncforest_y_predict)\n",
    "lncforest_acc,lncforest_pre,lncforest_recall,lncforest_f1"
   ]
  },
  {
   "cell_type": "markdown",
   "id": "7ad87708",
   "metadata": {},
   "source": [
    "mRNA"
   ]
  },
  {
   "cell_type": "code",
   "execution_count": 34,
   "id": "e6d902f0",
   "metadata": {},
   "outputs": [
    {
     "name": "stdout",
     "output_type": "stream",
     "text": [
      "(483, 56602)\n"
     ]
    },
    {
     "data": {
      "text/plain": [
       "0    432\n",
       "1     51\n",
       "Name: label, dtype: int64"
      ]
     },
     "execution_count": 34,
     "metadata": {},
     "output_type": "execute_result"
    }
   ],
   "source": [
    "m = pd.read_csv(r'mRNA.csv',header=0,index_col = 0)\n",
    "mx = data1.iloc[:,69680:]\n",
    "my = data1.iloc[:,0]\n",
    "print(mx.shape)\n",
    "my.value_counts() "
   ]
  },
  {
   "cell_type": "code",
   "execution_count": 35,
   "id": "fff3972f",
   "metadata": {},
   "outputs": [
    {
     "data": {
      "text/plain": [
       "(338, 56602)"
      ]
     },
     "execution_count": 35,
     "metadata": {},
     "output_type": "execute_result"
    }
   ],
   "source": [
    "mxtrain,  mxtest, mytrain, mytest = train_test_split(mx, my, test_size=0.3, stratify=my)\n",
    "mxtrain.shape"
   ]
  },
  {
   "cell_type": "code",
   "execution_count": 36,
   "id": "30682db1",
   "metadata": {},
   "outputs": [
    {
     "name": "stdout",
     "output_type": "stream",
     "text": [
      "                            OLS Regression Results                            \n",
      "==============================================================================\n",
      "Dep. Variable:                  label   R-squared:                       0.317\n",
      "Model:                            OLS   Adj. R-squared:                  0.072\n",
      "Method:                 Least Squares   F-statistic:                     1.293\n",
      "Date:                Fri, 21 Jan 2022   Prob (F-statistic):             0.0639\n",
      "Time:                        18:10:32   Log-Likelihood:                -17.680\n",
      "No. Observations:                 338   AIC:                             215.4\n",
      "Df Residuals:                     248   BIC:                             559.4\n",
      "Df Model:                          89                                         \n",
      "Covariance Type:            nonrobust                                         \n",
      "==============================================================================\n",
      "                 coef    std err          t      P>|t|      [0.025      0.975]\n",
      "------------------------------------------------------------------------------\n",
      "const          0.0302      0.250      0.121      0.904      -0.463       0.523\n",
      "TSPAN6         0.0022      0.003      0.688      0.492      -0.004       0.008\n",
      "DPM1          -0.0015      0.001     -1.350      0.178      -0.004       0.001\n",
      "C1orf112      -0.0006      0.021     -0.026      0.979      -0.043       0.042\n",
      "GCLC          -0.0108      0.008     -1.341      0.181      -0.027       0.005\n",
      "KRIT1         -0.0082      0.015     -0.542      0.588      -0.038       0.022\n",
      "LAP3           0.0019      0.002      1.006      0.315      -0.002       0.006\n",
      "M6PR           0.0020      0.004      0.479      0.632      -0.006       0.010\n",
      "CD38          -0.0146      0.025     -0.586      0.558      -0.064       0.034\n",
      "KDM1A         -0.0011      0.004     -0.290      0.772      -0.009       0.007\n",
      "RECQL         -0.0010      0.004     -0.238      0.812      -0.009       0.007\n",
      "HSPB6         -0.0009      0.003     -0.287      0.775      -0.007       0.005\n",
      "PDK4           0.0011      0.001      1.024      0.307      -0.001       0.003\n",
      "SLC25A13      -0.0026      0.008     -0.302      0.763      -0.019       0.014\n",
      "CALCR          0.0113      0.067      0.169      0.866      -0.121       0.143\n",
      "SKAP2          0.0002      0.007      0.029      0.977      -0.014       0.014\n",
      "SLC25A5       1.8e-05      0.000      0.048      0.962      -0.001       0.001\n",
      "RPAP3          0.0098      0.015      0.637      0.525      -0.020       0.040\n",
      "CIAPIN1        0.0063      0.006      1.032      0.303      -0.006       0.018\n",
      "FAM214B        0.0110      0.016      0.693      0.489      -0.020       0.042\n",
      "COPZ2         -0.0027      0.004     -0.670      0.503      -0.011       0.005\n",
      "MSL3           0.0085      0.015      0.574      0.566      -0.021       0.038\n",
      "CREBBP        -0.0019      0.008     -0.242      0.809      -0.018       0.014\n",
      "PON1          -0.0367      0.031     -1.189      0.236      -0.098       0.024\n",
      "ITGAL          0.0048      0.009      0.522      0.602      -0.013       0.023\n",
      "ZFX            0.0096      0.005      1.809      0.072      -0.001       0.020\n",
      "LAMP2          0.0005      0.001      0.350      0.726      -0.002       0.003\n",
      "OSBPL7        -0.0196      0.022     -0.909      0.364      -0.062       0.023\n",
      "YBX2           0.0167      0.008      2.189      0.030       0.002       0.032\n",
      "CACNG3        -0.8627      2.769     -0.312      0.756      -6.316       4.591\n",
      "ZNF263         0.0137      0.011      1.253      0.211      -0.008       0.035\n",
      "CACNA1G        0.0395      0.065      0.611      0.542      -0.088       0.167\n",
      "MAP3K9         0.0165      0.027      0.615      0.539      -0.036       0.069\n",
      "RALA          -0.0003      0.004     -0.063      0.950      -0.009       0.008\n",
      "TTC22         -0.0079      0.011     -0.728      0.467      -0.029       0.014\n",
      "PHTF2         -0.0056      0.014     -0.398      0.691      -0.033       0.022\n",
      "CCL26          0.0221      0.039      0.571      0.568      -0.054       0.098\n",
      "DBF4          -0.0167      0.021     -0.784      0.434      -0.059       0.025\n",
      "TBXA2R         0.0711      0.045      1.568      0.118      -0.018       0.160\n",
      "LGALS14       -0.1243      0.132     -0.939      0.349      -0.385       0.136\n",
      "ADIPOR2        0.0009      0.001      1.010      0.313      -0.001       0.003\n",
      "CDKL3         -0.0623      0.118     -0.527      0.598      -0.295       0.170\n",
      "UPP2           0.2186      0.228      0.959      0.339      -0.230       0.668\n",
      "MARK4          0.0048      0.009      0.540      0.590      -0.013       0.022\n",
      "CEACAM21      -0.0105      0.029     -0.368      0.713      -0.067       0.046\n",
      "PAFAH1B1      -0.0049      0.005     -1.064      0.288      -0.014       0.004\n",
      "CD79B          0.0053      0.005      0.990      0.323      -0.005       0.016\n",
      "LUC7L         -0.0016      0.008     -0.212      0.833      -0.017       0.014\n",
      "BAIAP3        -0.0023      0.004     -0.568      0.571      -0.010       0.006\n",
      "CRAMP1L       -0.0092      0.019     -0.497      0.620      -0.046       0.027\n",
      "TEAD3         -0.0022      0.005     -0.475      0.635      -0.012       0.007\n",
      "DNAJC11        0.0134      0.016      0.847      0.398      -0.018       0.045\n",
      "FMO3           0.0037      0.002      2.172      0.031       0.000       0.007\n",
      "MYLIP         -0.0025      0.002     -1.089      0.277      -0.007       0.002\n",
      "CAMK1G         0.0801      0.046      1.734      0.084      -0.011       0.171\n",
      "NADK          -0.0136      0.007     -1.936      0.054      -0.027       0.000\n",
      "TFAP2B         0.0011      0.001      0.756      0.450      -0.002       0.004\n",
      "TFAP2D        -1.9238      3.452     -0.557      0.578      -8.722       4.874\n",
      "CYB561        -0.0008      0.001     -1.396      0.164      -0.002       0.000\n",
      "PKD1           0.0083      0.015      0.550      0.583      -0.022       0.038\n",
      "UBE3C         -0.0006      0.008     -0.083      0.934      -0.016       0.014\n",
      "IYD            0.0343      0.015      2.221      0.027       0.004       0.065\n",
      "FAM76A         0.0214      0.023      0.923      0.357      -0.024       0.067\n",
      "TRAF3IP3      -0.0128      0.034     -0.377      0.707      -0.080       0.054\n",
      "POMT2          0.0296      0.024      1.251      0.212      -0.017       0.076\n",
      "MLXIPL         0.0264      0.021      1.237      0.217      -0.016       0.068\n",
      "RANBP9        -0.0004      0.002     -0.185      0.854      -0.005       0.004\n",
      "ETV7          -0.0072      0.010     -0.727      0.468      -0.027       0.012\n",
      "SPRTN         -0.0001      0.024     -0.006      0.995      -0.047       0.047\n",
      "STARD3NL      -0.0126      0.013     -0.955      0.340      -0.039       0.013\n",
      "CD9           -0.0003      0.000     -0.777      0.438      -0.001       0.000\n",
      "NCAPD2         0.0026      0.003      1.011      0.313      -0.002       0.008\n",
      "SEMA3G         0.0017      0.005      0.337      0.736      -0.008       0.012\n",
      "NISCH         -0.0038      0.006     -0.582      0.561      -0.016       0.009\n",
      "STAB1         -0.0002      0.007     -0.034      0.973      -0.015       0.014\n",
      "PRSS3         -0.0031      0.018     -0.170      0.865      -0.039       0.033\n",
      "CD4            0.0056      0.005      1.238      0.217      -0.003       0.014\n",
      "BTK           -0.0544      0.038     -1.438      0.152      -0.129       0.020\n",
      "SCMH1          0.0063      0.006      0.988      0.324      -0.006       0.019\n",
      "FMO1           0.0076      0.007      1.108      0.269      -0.006       0.021\n",
      "TCEB3         -0.0091      0.008     -1.131      0.259      -0.025       0.007\n",
      "MRC2          -0.0014      0.002     -0.646      0.519      -0.006       0.003\n",
      "NME2           0.0434      0.026      1.675      0.095      -0.008       0.094\n",
      "TSPAN9         0.0017      0.004      0.480      0.632      -0.005       0.009\n",
      "ANLN           0.0013      0.005      0.248      0.805      -0.009       0.011\n",
      "GABRA3        -0.0164      0.019     -0.850      0.396      -0.054       0.022\n",
      "ALOX5          0.0021      0.005      0.419      0.676      -0.008       0.012\n",
      "PSMC4         -0.0003      0.001     -0.331      0.741      -0.002       0.002\n",
      "NUB1          -0.0063      0.006     -1.109      0.268      -0.018       0.005\n",
      "RWDD2A         0.0162      0.015      1.060      0.290      -0.014       0.046\n",
      "==============================================================================\n",
      "Omnibus:                      123.626   Durbin-Watson:                   2.036\n",
      "Prob(Omnibus):                  0.000   Jarque-Bera (JB):              317.314\n",
      "Skew:                           1.789   Prob(JB):                     1.25e-69\n",
      "Kurtosis:                       6.119   Cond. No.                     5.39e+04\n",
      "==============================================================================\n",
      "\n",
      "Notes:\n",
      "[1] Standard Errors assume that the covariance matrix of the errors is correctly specified.\n",
      "[2] The condition number is large, 5.39e+04. This might indicate that there are\n",
      "strong multicollinearity or other numerical problems.\n",
      "const       0.904078\n",
      "TSPAN6      0.492267\n",
      "DPM1        0.178397\n",
      "C1orf112    0.979142\n",
      "GCLC        0.181244\n",
      "              ...   \n",
      "GABRA3      0.396020\n",
      "ALOX5       0.675901\n",
      "PSMC4       0.741087\n",
      "NUB1        0.268300\n",
      "RWDD2A      0.290398\n",
      "Length: 90, dtype: float64\n",
      "7\n",
      "(338, 7)\n"
     ]
    }
   ],
   "source": [
    "dict= {}\n",
    "list = []\n",
    "for i in range(len(mxtrain)):\n",
    "    my = mytrain\n",
    "    mx = mxtrain.iloc[:,i:i+1]\n",
    "    mX = sm.add_constant(mx)\n",
    "    model = sm.OLS(my, mX).fit()\n",
    "    #print(model.summary())\n",
    "    P = model.f_pvalue\n",
    "    mfea = mx.columns.tolist()\n",
    "    if P <= 0.25:\n",
    "        dict[mfea[0]] = P\n",
    "        list.append(mfea[0])\n",
    "\n",
    "mdf = mxtrain[list]\n",
    "my1 = mytrain\n",
    "mX = sm.add_constant(mdf)\n",
    "model2 = sm.OLS(my1, mX).fit()\n",
    "print(model2.summary())\n",
    "print(model2.pvalues)\n",
    "list2=[]\n",
    "for i in range(1,len(model2.pvalues)):\n",
    "    if model2.pvalues[i] <= 0.1:\n",
    "        list2.append(model2.pvalues.index.tolist()[i])\n",
    "print(len(list2))\n",
    "mxtrain = mxtrain[list2]\n",
    "mxtest = mxtest[list2]\n",
    "print(mxtrain.shape)"
   ]
  },
  {
   "cell_type": "code",
   "execution_count": 37,
   "id": "f058cb68",
   "metadata": {},
   "outputs": [
    {
     "name": "stdout",
     "output_type": "stream",
     "text": [
      "下采样后的数据集：\n",
      "[(0, 36), (1, 36)]\n",
      "(72, 7)\n"
     ]
    }
   ],
   "source": [
    "# 下采样\n",
    "rus=RandomUnderSampler(sampling_strategy=1)\n",
    "mxtrain,mytrain=rus.fit_resample(mxtrain,mytrain)\n",
    "print('下采样后的数据集：')\n",
    "print(sorted(Counter(mytrain).items()))\n",
    "print(mxtrain.shape)"
   ]
  },
  {
   "cell_type": "code",
   "execution_count": 38,
   "id": "af9d41ed",
   "metadata": {},
   "outputs": [
    {
     "name": "stdout",
     "output_type": "stream",
     "text": [
      "混淆矩阵：\n",
      " [[51 79]\n",
      " [ 6  9]]\n",
      "0.5461538461538461\n"
     ]
    },
    {
     "data": {
      "text/plain": [
       "(0.41379310344827586, 0.10227272727272728, 0.6, 0.17475728155339806)"
      ]
     },
     "execution_count": 38,
     "metadata": {},
     "output_type": "execute_result"
    }
   ],
   "source": [
    "mforest = RandomForestClassifier(criterion='entropy',n_estimators=171,random_state=13)\n",
    "mforest.fit(mxtrain, mytrain)\n",
    "mforest_y_pred = mforest.predict_proba(mxtest)[:, 1]\n",
    "mforest_y_predict = mforest.predict(mxtest)\n",
    "mforest_matrix = confusion_matrix(mytest,mforest_y_predict)\n",
    "print('混淆矩阵：\\n',mforest_matrix)\n",
    "mforest_fprs,mforest_tprs,mforest_thresholds = roc_curve(mytest,mforest_y_pred)\n",
    "mforest_roc_auc = auc(mforest_fprs, mforest_tprs)\n",
    "print(mforest_roc_auc)\n",
    "mforest_acc = accuracy_score(mytest, mforest_y_predict)\n",
    "mforest_pre =precision_score(mytest, mforest_y_predict)\n",
    "mforest_recall =recall_score(mytest, mforest_y_predict)\n",
    "mforest_f1 =f1_score(mytest, mforest_y_predict)\n",
    "mforest_acc,mforest_pre,mforest_recall,mforest_f1"
   ]
  },
  {
   "cell_type": "markdown",
   "id": "5234cee1",
   "metadata": {},
   "source": [
    "cnv"
   ]
  },
  {
   "cell_type": "code",
   "execution_count": 39,
   "id": "1b57fbb3",
   "metadata": {},
   "outputs": [
    {
     "name": "stdout",
     "output_type": "stream",
     "text": [
      "(483, 60483)\n"
     ]
    },
    {
     "data": {
      "text/plain": [
       "0    432\n",
       "1     51\n",
       "Name: label, dtype: int64"
      ]
     },
     "execution_count": 39,
     "metadata": {},
     "output_type": "execute_result"
    }
   ],
   "source": [
    "#cnv = pd.read_csv(r'cnv.csv',header=0,index_col = 0)\n",
    "cnvx = data1.iloc[:,1882:62365]\n",
    "cnvy = data1.iloc[:,0]\n",
    "print(cnvx.shape)\n",
    "cnvy.value_counts() "
   ]
  },
  {
   "cell_type": "code",
   "execution_count": 40,
   "id": "3c8ab8f8",
   "metadata": {},
   "outputs": [
    {
     "data": {
      "text/plain": [
       "(338, 60483)"
      ]
     },
     "execution_count": 40,
     "metadata": {},
     "output_type": "execute_result"
    }
   ],
   "source": [
    "cnvxtrain,  cnvxtest, cnvytrain, cnvytest = train_test_split(cnvx, cnvy, test_size=0.3, stratify=cnvy,random_state=18)\n",
    "cnvxtrain.shape"
   ]
  },
  {
   "cell_type": "code",
   "execution_count": 41,
   "id": "68603b21",
   "metadata": {
    "scrolled": true
   },
   "outputs": [
    {
     "name": "stdout",
     "output_type": "stream",
     "text": [
      "                            OLS Regression Results                            \n",
      "==============================================================================\n",
      "Dep. Variable:                  label   R-squared:                       0.026\n",
      "Model:                            OLS   Adj. R-squared:                 -0.023\n",
      "Method:                 Least Squares   F-statistic:                    0.5253\n",
      "Date:                Fri, 21 Jan 2022   Prob (F-statistic):              0.933\n",
      "Time:                        18:11:09   Log-Likelihood:                -77.721\n",
      "No. Observations:                 338   AIC:                             189.4\n",
      "Df Residuals:                     321   BIC:                             254.4\n",
      "Df Model:                          16                                         \n",
      "Covariance Type:            nonrobust                                         \n",
      "==========================================================================================================================================\n",
      "                                                                             coef    std err          t      P>|t|      [0.025      0.975]\n",
      "------------------------------------------------------------------------------------------------------------------------------------------\n",
      "const                                                                      0.2340      0.130      1.796      0.073      -0.022       0.490\n",
      "PRDM16_ENSG00000142611_chr1_3069168_3438621_protein_coding                 0.4851      0.265      1.829      0.068      -0.037       1.007\n",
      "ARHGEF16_ENSG00000130762_chr1_3454426_3481113_protein_coding              -0.5217      0.252     -2.067      0.040      -1.018      -0.025\n",
      "AJAP1_ENSG00000196581_chr1_4654732_4792534_protein_coding                  0.0186      0.179      0.104      0.917      -0.333       0.370\n",
      "RP11-312B8.1_ENSG00000237436_chr1_6783892_6784843_antisense               -0.0419      0.373     -0.112      0.911      -0.775       0.692\n",
      "CAMTA1_ENSG00000171735_chr1_6785324_7769706_protein_coding                 0.0574      0.162      0.354      0.724      -0.262       0.376\n",
      "RP11-312B8.2_ENSG00000227950_chr1_6834333_6834618_processed_pseudogene    -0.0419      0.373     -0.112      0.911      -0.775       0.692\n",
      "RP11-334N17.1_ENSG00000237365_chr1_7008376_7014279_antisense               0.0858      1.158      0.074      0.941      -2.193       2.364\n",
      "RNU1-8P_ENSG00000207056_chr1_7219360_7219524_snRNA                         0.0749      0.537      0.139      0.889      -0.981       1.131\n",
      "Z98052.1_ENSG00000280801_chr1_7264193_7264277_miRNA                        0.0749      0.537      0.139      0.889      -0.981       1.131\n",
      "CAMTA1-IT1_ENSG00000237402_chr1_7368942_7370270_sense_intronic             0.9449      0.992      0.952      0.342      -1.007       2.897\n",
      "RP3-453P22.2_ENSG00000237728_chr1_7382487_7389754_antisense                0.9449      0.992      0.952      0.342      -1.007       2.897\n",
      "RP4-549F15.1_ENSG00000225126_chr1_7441096_7441554_antisense               -1.7918      1.665     -1.076      0.283      -5.068       1.484\n",
      "RP11-338N10.1_ENSG00000270171_chr1_7693124_7694844_lincRNA                -0.0856      0.225     -0.381      0.704      -0.528       0.357\n",
      "RP11-338N10.2_ENSG00000270035_chr1_7698303_7698872_lincRNA                -0.0856      0.225     -0.381      0.704      -0.528       0.357\n",
      "RP11-338N10.3_ENSG00000269978_chr1_7700704_7700970_lincRNA                -0.0856      0.225     -0.381      0.704      -0.528       0.357\n",
      "VAMP3_ENSG00000049245_chr1_7771269_7781432_protein_coding                 -3.6911      7.608     -0.485      0.628     -18.659      11.277\n",
      "RP3-467L1.6_ENSG00000269925_chr1_7776383_7776775_sense_intronic            1.2800      9.649      0.133      0.895     -17.704      20.264\n",
      "PER3_ENSG00000049246_chr1_7784320_7845177_protein_coding                  -0.2077      5.042     -0.041      0.967     -10.128       9.713\n",
      "RP3-467L1.4_ENSG00000236266_chr1_7810242_7827342_antisense                 2.3110      9.283      0.249      0.804     -15.952      20.574\n",
      "UTS2_ENSG00000049247_chr1_7843083_7853512_protein_coding                  -1.0178      3.631     -0.280      0.779      -8.161       6.126\n",
      "TNFRSF9_ENSG00000049249_chr1_7915894_7943165_protein_coding                2.4387      6.254      0.390      0.697      -9.865      14.742\n",
      "RP5-892F13.2_ENSG00000270330_chr1_7942372_7942726_processed_pseudogene    -1.2126      3.491     -0.347      0.729      -8.081       5.655\n",
      "==============================================================================\n",
      "Omnibus:                      179.521   Durbin-Watson:                   2.045\n",
      "Prob(Omnibus):                  0.000   Jarque-Bera (JB):              649.802\n",
      "Skew:                           2.524   Prob(JB):                    7.90e-142\n",
      "Kurtosis:                       7.544   Cond. No.                     2.26e+20\n",
      "==============================================================================\n",
      "\n",
      "Notes:\n",
      "[1] Standard Errors assume that the covariance matrix of the errors is correctly specified.\n",
      "[2] The smallest eigenvalue is 5.26e-37. This might indicate that there are\n",
      "strong multicollinearity problems or that the design matrix is singular.\n",
      "const                                                                     0.073471\n",
      "PRDM16_ENSG00000142611_chr1_3069168_3438621_protein_coding                0.068317\n",
      "ARHGEF16_ENSG00000130762_chr1_3454426_3481113_protein_coding              0.039514\n",
      "AJAP1_ENSG00000196581_chr1_4654732_4792534_protein_coding                 0.917413\n",
      "RP11-312B8.1_ENSG00000237436_chr1_6783892_6784843_antisense               0.910539\n",
      "CAMTA1_ENSG00000171735_chr1_6785324_7769706_protein_coding                0.723783\n",
      "RP11-312B8.2_ENSG00000227950_chr1_6834333_6834618_processed_pseudogene    0.910539\n",
      "RP11-334N17.1_ENSG00000237365_chr1_7008376_7014279_antisense              0.940955\n",
      "RNU1-8P_ENSG00000207056_chr1_7219360_7219524_snRNA                        0.889199\n",
      "Z98052.1_ENSG00000280801_chr1_7264193_7264277_miRNA                       0.889199\n",
      "CAMTA1-IT1_ENSG00000237402_chr1_7368942_7370270_sense_intronic            0.341647\n",
      "RP3-453P22.2_ENSG00000237728_chr1_7382487_7389754_antisense               0.341647\n",
      "RP4-549F15.1_ENSG00000225126_chr1_7441096_7441554_antisense               0.282686\n",
      "RP11-338N10.1_ENSG00000270171_chr1_7693124_7694844_lincRNA                0.703601\n",
      "RP11-338N10.2_ENSG00000270035_chr1_7698303_7698872_lincRNA                0.703601\n",
      "RP11-338N10.3_ENSG00000269978_chr1_7700704_7700970_lincRNA                0.703601\n",
      "VAMP3_ENSG00000049245_chr1_7771269_7781432_protein_coding                 0.627909\n",
      "RP3-467L1.6_ENSG00000269925_chr1_7776383_7776775_sense_intronic           0.894548\n",
      "PER3_ENSG00000049246_chr1_7784320_7845177_protein_coding                  0.967177\n",
      "RP3-467L1.4_ENSG00000236266_chr1_7810242_7827342_antisense                0.803554\n",
      "UTS2_ENSG00000049247_chr1_7843083_7853512_protein_coding                  0.779422\n",
      "TNFRSF9_ENSG00000049249_chr1_7915894_7943165_protein_coding               0.696833\n",
      "RP5-892F13.2_ENSG00000270330_chr1_7942372_7942726_processed_pseudogene    0.728552\n",
      "dtype: float64\n",
      "2\n",
      "(338, 2)\n"
     ]
    }
   ],
   "source": [
    "dict= {}\n",
    "list = []\n",
    "for i in range(len(cnvxtrain)):\n",
    "    cnvy = cnvytrain\n",
    "    cnvx = cnvxtrain.iloc[:,i:i+1]\n",
    "    cnvX = sm.add_constant(cnvx)\n",
    "    model = sm.OLS(cnvy, cnvX).fit()\n",
    "    #print(model.summary())\n",
    "    P = model.f_pvalue\n",
    "    cnvfea = cnvx.columns.tolist()\n",
    "    if P <= 0.3:\n",
    "        dict[cnvfea[0]] = P\n",
    "        list.append(cnvfea[0])\n",
    "\n",
    "cnvdf = cnvxtrain[list]\n",
    "cnvy1 = cnvytrain\n",
    "cnvX = sm.add_constant(cnvdf)\n",
    "model2 = sm.OLS(cnvy1, cnvX).fit()\n",
    "print(model2.summary())\n",
    "print(model2.pvalues)\n",
    "list2=[]\n",
    "for i in range(1,len(model2.pvalues)):\n",
    "    if model2.pvalues[i] <= 0.2:\n",
    "        list2.append(model2.pvalues.index.tolist()[i])\n",
    "print(len(list2))\n",
    "cnvxtrain = cnvxtrain[list2]\n",
    "cnvxtest = cnvxtest[list2]\n",
    "print(cnvxtrain.shape)"
   ]
  },
  {
   "cell_type": "code",
   "execution_count": 42,
   "id": "f1a94a6a",
   "metadata": {},
   "outputs": [
    {
     "name": "stdout",
     "output_type": "stream",
     "text": [
      "下采样后的数据集：\n",
      "[(0, 36), (1, 36)]\n",
      "(72, 2)\n"
     ]
    }
   ],
   "source": [
    "# 下采样\n",
    "rus=RandomUnderSampler(sampling_strategy=1,random_state=18)\n",
    "cnvxtrain,cnvytrain=rus.fit_resample(cnvxtrain,cnvytrain)\n",
    "print('下采样后的数据集：')\n",
    "print(sorted(Counter(cnvytrain).items()))\n",
    "print(cnvxtrain.shape)"
   ]
  },
  {
   "cell_type": "code",
   "execution_count": 43,
   "id": "96712691",
   "metadata": {},
   "outputs": [
    {
     "name": "stdout",
     "output_type": "stream",
     "text": [
      "混淆矩阵：\n",
      " [[64 66]\n",
      " [ 8  7]]\n",
      "0.5207692307692308\n"
     ]
    },
    {
     "data": {
      "text/plain": [
       "(0.4896551724137931,\n",
       " 0.0958904109589041,\n",
       " 0.4666666666666667,\n",
       " 0.15909090909090906)"
      ]
     },
     "execution_count": 43,
     "metadata": {},
     "output_type": "execute_result"
    }
   ],
   "source": [
    "cnvforest = RandomForestClassifier(criterion='entropy',n_estimators=171,random_state=187)\n",
    "cnvforest.fit(cnvxtrain, cnvytrain)\n",
    "cnvforest_y_pred = cnvforest.predict_proba(cnvxtest)[:, 1]\n",
    "cnvforest_y_predict = cnvforest.predict(cnvxtest)\n",
    "cnvforest_matrix = confusion_matrix(cnvytest,cnvforest_y_predict)\n",
    "print('混淆矩阵：\\n',cnvforest_matrix)\n",
    "cnvforest_fprs,cnvforest_tprs,cnvforest_thresholds = roc_curve(cnvytest,cnvforest_y_pred)\n",
    "cnvforest_roc_auc = auc(cnvforest_fprs, cnvforest_tprs)\n",
    "print(cnvforest_roc_auc)\n",
    "cnvforest_acc = accuracy_score(cnvytest, cnvforest_y_predict)\n",
    "cnvforest_pre =precision_score(cnvytest, cnvforest_y_predict)\n",
    "cnvforest_recall =recall_score(cnvytest, cnvforest_y_predict)\n",
    "cnvforest_f1 =f1_score(cnvytest, cnvforest_y_predict)\n",
    "cnvforest_acc,cnvforest_pre,cnvforest_recall,cnvforest_f1"
   ]
  },
  {
   "cell_type": "markdown",
   "id": "1e8bcb41",
   "metadata": {},
   "source": [
    "miRNA与其他组学对比图"
   ]
  },
  {
   "cell_type": "code",
   "execution_count": 45,
   "id": "d45e589b",
   "metadata": {},
   "outputs": [
    {
     "data": {
      "image/png": "[encoded data removed]",
      "text/plain": [
       "<Figure size 432x288 with 1 Axes>"
      ]
     },
     "metadata": {
      "needs_background": "light"
     },
     "output_type": "display_data"
    }
   ],
   "source": [
    "import matplotlib.pyplot as plt\n",
    "plt.title('ROC Curve',family='Arial',fontsize=10)\n",
    "plt.plot(miforest_fprs,miforest_tprs, 'b', label='miRNA AUC = %0.2f' %miforest_roc_auc)  # miRNA\n",
    "plt.plot(lncforest_fprs,lncforest_tprs, '#42b395', label=' ncRNA AUC = %0.2f' %lncforest_roc_auc)  # lncRNA\n",
    "plt.plot(mforest_fprs,mforest_tprs, '#75b84f', label=' mRNA AUC = %0.2f' %mforest_roc_auc)  # mRNA\n",
    "plt.plot(cnvforest_fprs,cnvforest_tprs, '#ffb07c', label=' CNV AUC = %0.2f' %cnvforest_roc_auc)  # CNV\n",
    "plt.legend(loc='lower right',fontsize=10,prop='Arial')\n",
    "plt.plot([0, 1], [0, 1], '#FF6666')\n",
    "plt.xlim([0, 1])\n",
    "plt.ylim([0, 1])\n",
    "plt.ylabel('True Positive Rate',family='Arial',size=10)\n",
    "plt.xlabel('False Positive Rate',family='Arial',size=10)\n",
    "plt.savefig(r'miRNA与单一数据对比图.pdf')\n",
    "plt.show()"
   ]
  },
  {
   "cell_type": "code",
   "execution_count": 53,
   "id": "85a89366",
   "metadata": {},
   "outputs": [
    {
     "data": {
      "image/png": "[encoded data removed]",
      "text/plain": [
       "<Figure size 432x288 with 1 Axes>"
      ]
     },
     "metadata": {
      "needs_background": "light"
     },
     "output_type": "display_data"
    }
   ],
   "source": [
    "names = ('Accuracy', 'Precision', 'Sensitivity','F1-score')\n",
    "\n",
    "\n",
    "mi=[0.68,0.17,0.53,0.26]\n",
    "lnc=[0.55, 0.12, 0.52, 0.2]\n",
    "m=[0.42, 0.1, 0.58, 0.17]\n",
    "svc=[0.49,0.09,0.47,0.16]\n",
    "\n",
    "bar_width = 0.25  # 条形宽度\n",
    "index_ACC = [1.25, 2.75, 4.25, 5.75]\n",
    "index_Pre = [1.5, 3.0, 4.5, 6.0]\n",
    "index_Sn = [1.75, 3.25, 4.75, 6.25]\n",
    "index_MCC = [2.0, 3.5, 5.0, 6.5]\n",
    "\n",
    "\n",
    "plt.title('Comparison Chat of Different Methods',family='Arial',fontsize=10)\n",
    "plt.bar(index_ACC, height=mi, width=bar_width, color='#336699', label='miRNA')\n",
    "plt.bar(index_Pre, height=lnc, width=bar_width, color='#669999', label='lncRNA')\n",
    "plt.bar(index_Sn, height=m, width=bar_width, color='#CCCCCC', label='mRNA')\n",
    "plt.bar(index_MCC, height=svc, width=bar_width, color='#75b84f', label='CNV')\n",
    "\n",
    "plt.legend(loc='best',fontsize=8,prop='Arial') # 显示图例\n",
    "plt.xticks(index_Pre, names,size=10,family='Arial')  # 让横坐标轴刻度显示names， index_AUC + bar_width/2 为横坐标轴刻度的位置\n",
    "#plt.title('对比图') # 图形标题\n",
    "plt.savefig('miRNA与单一数据的树形图.pdf')\n",
    "plt.show()"
   ]
  },
  {
   "cell_type": "markdown",
   "id": "86921edb",
   "metadata": {},
   "source": [
    "多维数据与其他组学对比图"
   ]
  },
  {
   "cell_type": "code",
   "execution_count": 177,
   "id": "7f9adff2",
   "metadata": {},
   "outputs": [
    {
     "data": {
      "image/png": "[encoded data removed]",
      "text/plain": [
       "<Figure size 432x288 with 1 Axes>"
      ]
     },
     "metadata": {
      "needs_background": "light"
     },
     "output_type": "display_data"
    }
   ],
   "source": [
    "import matplotlib.pyplot as plt\n",
    "plt.title('ROC Curve',family='Arial',fontsize=10)\n",
    "plt.plot(forest_fprs,forest_tprs, '#669999', label='Forest AUC = %0.2f' % forest_roc_auc)  # 多维\n",
    "plt.plot(miforest_fprs,miforest_tprs, '#CCCCCC', label='miRNA AUC = %0.2f' %miforest_roc_auc)  # miRNA\n",
    "plt.plot(lncforest_fprs,lncforest_tprs, '#42b395', label=' ncRNA AUC = %0.2f' %lncforest_roc_auc)  # lncRNA\n",
    "plt.plot(mforest_fprs,mforest_tprs, '#75b84f', label=' mRNA AUC = %0.2f' %mforest_roc_auc)  # mRNA\n",
    "plt.plot(cnvforest_fprs,cnvforest_tprs, '#ffb07c', label=' CNV AUC = %0.2f' %cnvforest_roc_auc)  # CNV\n",
    "plt.legend(loc='lower right',fontsize=10,prop='Arial')\n",
    "plt.plot([0, 1], [0, 1], '#FF6666')\n",
    "plt.xlim([0, 1])\n",
    "plt.ylim([0, 1])\n",
    "plt.ylabel('True Positive Rate',family='Arial',size=10)\n",
    "plt.xlabel('False Positive Rate',family='Arial',size=10)\n",
    "plt.savefig(r'多维数据与单一数据对比图.pdf')\n",
    "plt.show()"
   ]
  },
  {
   "cell_type": "code",
   "execution_count": 174,
   "id": "6b24b3f6",
   "metadata": {},
   "outputs": [
    {
     "data": {
      "image/png": "[encoded data removed]",
      "text/plain": [
       "<Figure size 432x288 with 1 Axes>"
      ]
     },
     "metadata": {
      "needs_background": "light"
     },
     "output_type": "display_data"
    }
   ],
   "source": [
    "names = ('Accuracy', 'Precision', 'Sensitivity','F1-score')\n",
    "\n",
    "forest = [0.68,0.17,0.53,0.26]\n",
    "mi=[0.66,0.15,0.47,0.22]\n",
    "lnc=[0.55, 0.12, 0.52, 0.2]\n",
    "m=[0.42, 0.09, 0.52, 0.16]\n",
    "svc=[0.49,0.09,0.47,0.16]\n",
    "\n",
    "bar_width = 0.25  # 条形宽度\n",
    "index_ACC = [1.25, 2.75, 4.25, 5.75]\n",
    "index_Pre = [1.5, 3.0, 4.5, 6.0]\n",
    "index_Sn = [1.75, 3.25, 4.75, 6.25]\n",
    "index_MCC = [2.0, 3.5, 5.0, 6.5]\n",
    "index_f = [2.25, 3.75, 5.25, 6.75]\n",
    "\n",
    "plt.title('Comparison Chat of Different Methods',family='Arial',fontsize=10)\n",
    "plt.bar(index_ACC, height=forest, width=bar_width, color='#336699', label='mutidata')\n",
    "plt.bar(index_Pre, height=mi, width=bar_width, color='#669999', label='miRNA')\n",
    "plt.bar(index_Sn, height=lnc, width=bar_width, color='#CCCCCC', label='lncRNA')\n",
    "plt.bar(index_MCC, height=m, width=bar_width, color='#75b84f', label='mRNA')\n",
    "plt.bar(index_f, height=svc, width=bar_width, color='#ffb07c', label='CNV')\n",
    "\n",
    "plt.legend(loc='best',fontsize=8,prop='Arial') # 显示图例\n",
    "plt.xticks(index_Pre, names,size=10,family='Arial')  # 让横坐标轴刻度显示names， index_AUC + bar_width/2 为横坐标轴刻度的位置\n",
    "#plt.title('对比图') # 图形标题\n",
    "plt.savefig('五种数据的四种评估方法的对比图.pdf')\n",
    "plt.show()"
   ]
  },
  {
   "cell_type": "code",
   "execution_count": null,
   "id": "f169a8f0",
   "metadata": {},
   "outputs": [],
   "source": []
  }
 ],
 "metadata": {
  "kernelspec": {
   "display_name": "Python 3",
   "language": "python",
   "name": "python3"
  },
  "language_info": {
   "codemirror_mode": {
    "name": "ipython",
    "version": 3
   },
   "file_extension": ".py",
   "mimetype": "text/x-python",
   "name": "python",
   "nbconvert_exporter": "python",
   "pygments_lexer": "ipython3",
   "version": "3.6.12"
  }
 },
 "nbformat": 4,
 "nbformat_minor": 5
}
